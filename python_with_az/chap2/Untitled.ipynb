{
 "cells": [
  {
   "cell_type": "markdown",
   "id": "d463cb73",
   "metadata": {},
   "source": [
    "# First chapter notebook\n",
    "## Cover with baba ammar\n",
    "### Working in jupyter notebook"
   ]
  },
  {
   "cell_type": "markdown",
   "id": "ce8dfbc4",
   "metadata": {},
   "source": [
    "### first_program\n",
    "**operators and string**"
   ]
  },
  {
   "cell_type": "code",
   "execution_count": 6,
   "id": "b17d1405",
   "metadata": {
    "scrolled": false
   },
   "outputs": [
    {
     "name": "stdout",
     "output_type": "stream",
     "text": [
      "5\n",
      "This is new world\n",
      "all data\n"
     ]
    }
   ],
   "source": [
    "print(2+3)\n",
    "print(\"This is new world\")\n",
    "print(\"all data\") "
   ]
  },
  {
   "cell_type": "markdown",
   "id": "fc895420",
   "metadata": {},
   "source": [
    "### 2_operators"
   ]
  },
  {
   "cell_type": "code",
   "execution_count": 10,
   "id": "da5f27aa",
   "metadata": {},
   "outputs": [
    {
     "name": "stdout",
     "output_type": "stream",
     "text": [
      "6\n",
      "-4\n",
      "3.0\n",
      "12\n",
      "1\n",
      "6\n",
      "6.5\n",
      "8\n",
      "7.0\n"
     ]
    }
   ],
   "source": [
    "print(2+4)\n",
    "print(2-6)\n",
    "print(6/2)\n",
    "print(6*2)\n",
    "print(13%2)\n",
    "\n",
    "print(13//2)\n",
    "print(13/2)\n",
    "\n",
    "print(2**3)\n",
    "\n",
    "print(2*3/2+2**(6-4))\n",
    "#PEMDAS"
   ]
  },
  {
   "cell_type": "markdown",
   "id": "46922afc",
   "metadata": {},
   "source": [
    "### Strings"
   ]
  },
  {
   "cell_type": "code",
   "execution_count": 11,
   "id": "1486a08b",
   "metadata": {},
   "outputs": [
    {
     "name": "stdout",
     "output_type": "stream",
     "text": [
      "'What's up\n",
      "Vale known\n"
     ]
    }
   ],
   "source": [
    "# print(\"This is new world\")\n",
    "# print(\"all data\") \n",
    "# print('Test for single quate')\n",
    "# print(\"Test for double quate\")\n",
    "# Print('''Test for triple quate''')\n",
    "\n",
    "print( \"'What's up\" )\n",
    "\n",
    "print('''Vale known''')"
   ]
  },
  {
   "cell_type": "markdown",
   "id": "1e012ebe",
   "metadata": {},
   "source": [
    "### Comments"
   ]
  },
  {
   "cell_type": "code",
   "execution_count": 12,
   "id": "004bfac9",
   "metadata": {},
   "outputs": [
    {
     "name": "stdout",
     "output_type": "stream",
     "text": [
      "How are you\n",
      "We are learning ammar\n",
      "5\n"
     ]
    }
   ],
   "source": [
    "print(\"How are you\")  #a welcome message\n",
    "print(\"We are learning ammar\") #print of string\n",
    "print(2+3) #print math functions"
   ]
  },
  {
   "cell_type": "markdown",
   "id": "8ffb7aaf",
   "metadata": {},
   "source": [
    "## variables"
   ]
  },
  {
   "cell_type": "code",
   "execution_count": 14,
   "id": "4b3d745f",
   "metadata": {},
   "outputs": [
    {
     "name": "stdout",
     "output_type": "stream",
     "text": [
      "Mangoes\n",
      "<class 'str'>\n"
     ]
    }
   ],
   "source": [
    "# # Varable are objects containing specific values\n",
    "\n",
    "# from traceback import print_tb\n",
    "\n",
    "\n",
    "# x = 5  #numaric variable\n",
    "# print(x)\n",
    "\n",
    "# y=\"We are learning python with aamar\" #string variable\n",
    "# print(y)\n",
    "\n",
    "# x= x+10  #x equal to 15\n",
    "# print(x)\n",
    "\n",
    "# # y = x\n",
    "# # print(y)\n",
    "\n",
    "# #types/class of variables\n",
    "# type(x)\n",
    "# print(type(x))\n",
    "\n",
    "# print(type(y))\n",
    "\n",
    "#Rules to assign a varable/object\n",
    "# 1- Variable should contains letters, numbers or underscores\n",
    "# 2- Never start with number\n",
    "# 3- Never use spacing in name\n",
    "# 4- Do not use keywords\n",
    "# 5- Short and descriptive\n",
    "# 6- Case senstivity (try to fellow lower case)\n",
    "\n",
    "fruit_basket = 8\n",
    "\n",
    "fruit_basket = \"Mangoes\"\n",
    "#del fruit_basket\n",
    "print(fruit_basket)\n",
    "print(type(fruit_basket))"
   ]
  },
  {
   "cell_type": "markdown",
   "id": "48c9866e",
   "metadata": {},
   "source": [
    "### input_varibale"
   ]
  },
  {
   "cell_type": "code",
   "execution_count": 15,
   "id": "cdcef316",
   "metadata": {},
   "outputs": [
    {
     "name": "stdout",
     "output_type": "stream",
     "text": [
      "What is your name?ayaz\n",
      "how old are you?23\n",
      "Hello ayaz , you are still young 23\n"
     ]
    }
   ],
   "source": [
    "# fruit_basket = \"Mangoes\"\n",
    "# print(fruit_basket)\n",
    "\n",
    "# #input function\n",
    "# fruit_basket=input(\"Which fruit you want to pick \")\n",
    "# print(fruit_basket)\n",
    "\n",
    "# #input function next stage\n",
    "# name= input(\"What is your name? \")\n",
    "# greetings = \"Hello\"\n",
    "# print(greetings, name)\n",
    "\n",
    "\n",
    "# #another way of stage two function\n",
    "# name = input(\"What is your name\")\n",
    "# print(\"hello\", name)\n",
    "\n",
    "#Third stage input function\n",
    "name = input(\"What is your name?\" )\n",
    "age = input(\"how old are you?\" )\n",
    "greeting =\"Hello\"\n",
    "\n",
    "print(greeting , name, \", you are still young\", age)\n",
    "\n",
    "#input_aammar_you are still young"
   ]
  },
  {
   "cell_type": "markdown",
   "id": "333776d4",
   "metadata": {},
   "source": [
    "### condional_logic"
   ]
  },
  {
   "cell_type": "code",
   "execution_count": null,
   "id": "7accad85",
   "metadata": {},
   "outputs": [],
   "source": [
    "# equal to        ==\n",
    "# not equal to    !=\n",
    "# less then       <\n",
    "# greater then    >\n",
    "# less then and equal to    <=\n",
    "# greater than and equal to >=\n",
    "# print(4==4)\n",
    "\n",
    "# print(4!=4)\n",
    "\n",
    "# print(3>4)\n",
    "\n",
    "# print(4<=4)\n",
    "# print(4>=4)\n",
    "\n",
    "\n",
    "\n",
    "# #Application of logical operation\n",
    "# hamid_age = 4\n",
    "# age_at_school = 5\n",
    "# print(hamid_age >= age_at_school)"
   ]
  },
  {
   "cell_type": "markdown",
   "id": "c5fee446",
   "metadata": {},
   "source": [
    "### type_conversion"
   ]
  },
  {
   "cell_type": "code",
   "execution_count": 16,
   "id": "dbadd406",
   "metadata": {
    "scrolled": true
   },
   "outputs": [
    {
     "name": "stdout",
     "output_type": "stream",
     "text": [
      "What is your name ayaz\n",
      "ayaz <class 'str'>\n"
     ]
    }
   ],
   "source": [
    "# x = 10          #int\n",
    "# y = 11.6        #float\n",
    "# z =\"Hello\"      #str\n",
    "\n",
    "# #implicit type conversion int to float\n",
    "# m = x+y\n",
    "\n",
    "# print(type(x))\n",
    "# print(type(y))\n",
    "# print(type(z))\n",
    "# print(type(m))\n",
    "\n",
    "\n",
    "# #explicity type conversion\n",
    "# age = input(\"What is your age\")\n",
    "# print(type(int(age)))\n",
    "\n",
    "name = input(\"What is your name \")\n",
    "print(name, type(name))\n",
    "\n",
    "\n",
    "#type_conversion"
   ]
  },
  {
   "cell_type": "markdown",
   "id": "2882e91e",
   "metadata": {},
   "source": [
    "### if_elif_else"
   ]
  },
  {
   "cell_type": "code",
   "execution_count": 17,
   "id": "bd3b1aed",
   "metadata": {},
   "outputs": [
    {
     "name": "stdout",
     "output_type": "stream",
     "text": [
      "Join primary school\n"
     ]
    }
   ],
   "source": [
    "haider_age = 20\n",
    "required_age_at_school = 5\n",
    "\n",
    "# question: can haider go to school\n",
    "\n",
    "if required_age_at_school == haider_age:\n",
    "    print(\"Haider can join the school\")\n",
    "elif haider_age > required_age_at_school:\n",
    "    print(\"Join primary school\")\n",
    "\n",
    "elif haider_age <= 2:\n",
    "    print(\"take care haider\")\n",
    "\n",
    "else:\n",
    "    print(\"Haider can join school\")\n"
   ]
  },
  {
   "cell_type": "markdown",
   "id": "3fd4f1fc",
   "metadata": {},
   "source": [
    "### functions"
   ]
  },
  {
   "cell_type": "code",
   "execution_count": 21,
   "id": "a32f88be",
   "metadata": {},
   "outputs": [
    {
     "name": "stdout",
     "output_type": "stream",
     "text": [
      "48\n"
     ]
    }
   ],
   "source": [
    "\n",
    "    #defination of function\n",
    "\n",
    "# def print_codanics():\n",
    "#     print(\"I am learning with ammar\")\n",
    "#     print(\"I am learning with ammar\")\n",
    "#     print(\"I am learning with ammar\")\n",
    "\n",
    "# def print_codanics():\n",
    "#     text = \"I am learning with ammar\"\n",
    "#     print(text)\n",
    "#     print(text)\n",
    "#     print(text)\n",
    "\n",
    "# #print_codanics()\n",
    "\n",
    "# def print_codanics(text):\n",
    "#     print(text)\n",
    "#     print(text)\n",
    "#     print(text)\n",
    "\n",
    "# print_codanics(\"I am learning with ammar\")\n",
    "\n",
    "\n",
    "# defining a function with if, elif and else statment\n",
    "# def school_entry_calculator(age, name):\n",
    "#     if(age == 5):   \n",
    "#         print(name ,\" can join the school\")\n",
    "#     elif(age > 5):\n",
    "#         print(name, \" should to higher school\")\n",
    "#     else:\n",
    "#         print(name, \"Haider have to remain home\")\n",
    "\n",
    "# school_entry_calculator(7, \"ali\")\n",
    "\n",
    "# defining a function of future\n",
    "\n",
    "def future_age(age):\n",
    "        new_age = age + 20\n",
    "        return new_age\n",
    "\n",
    "future_prediction_age =future_age(28)\n",
    "print(future_prediction_age)\n",
    "\n",
    "#type : i understand function really well."
   ]
  },
  {
   "cell_type": "markdown",
   "id": "6047f306",
   "metadata": {},
   "source": [
    "### while and for loops"
   ]
  },
  {
   "cell_type": "code",
   "execution_count": 22,
   "id": "1973cea6",
   "metadata": {},
   "outputs": [
    {
     "name": "stdout",
     "output_type": "stream",
     "text": [
      "Mon\n",
      "Tus\n",
      "Wed\n",
      "Thu\n",
      "Sat\n",
      "Sun\n"
     ]
    }
   ],
   "source": [
    "# while and for loops\n",
    "\n",
    "# while loops\n",
    "# x = 0\n",
    "# while(x <= 5):\n",
    "#     print(x)\n",
    "#     x=x+1\n",
    "\n",
    "# for loops\n",
    "# for x in range(5,10):\n",
    "#     print(x)\n",
    "\n",
    "#array\n",
    "days = [\"Mon\" , \"Tus\", \"Wed\", \"Thu\", \"Fri\", \"Sat\", \"Sun\"]\n",
    "for d in days:\n",
    "    # if(d == \"Fri\"): #loop stop\n",
    "    #     break\n",
    "    if(d == \"Fri\"): continue\n",
    "    print(d)"
   ]
  },
  {
   "cell_type": "markdown",
   "id": "d18e0527",
   "metadata": {},
   "source": [
    "### import library"
   ]
  },
  {
   "cell_type": "code",
   "execution_count": 23,
   "id": "fe85bec6",
   "metadata": {},
   "outputs": [
    {
     "name": "stdout",
     "output_type": "stream",
     "text": [
      "The value of pi is  3.141592653589793\n",
      "283.3333333333333\n"
     ]
    }
   ],
   "source": [
    "# if you want to print the value of pi\n",
    "\n",
    "import math\n",
    "print(\"The value of pi is \", math.pi)\n",
    "\n",
    "import statistics\n",
    "x = [150, 250, 450]\n",
    "print(statistics.mean(x))\n",
    "\n",
    "# numpy, pandas\n"
   ]
  },
  {
   "cell_type": "markdown",
   "id": "9a92ca9c",
   "metadata": {},
   "source": [
    "### trouble shouting is easy"
   ]
  },
  {
   "cell_type": "code",
   "execution_count": 24,
   "id": "873fc6c0",
   "metadata": {},
   "outputs": [
    {
     "name": "stdout",
     "output_type": "stream",
     "text": [
      "hello Ali\n"
     ]
    }
   ],
   "source": [
    "# print(\"we are learning with ammar baba\" )\n",
    "\n",
    "# print(25/0)  #runtime error\n",
    "\n",
    "name= \"Ali\"\n",
    "print(\"hello\" , name)\n",
    "\n",
    "\n",
    "#trouble shooting is easy"
   ]
  },
  {
   "cell_type": "markdown",
   "id": "0441b99a",
   "metadata": {},
   "source": [
    "### conclusion chapter"
   ]
  },
  {
   "cell_type": "code",
   "execution_count": 8,
   "id": "a6bbe40c",
   "metadata": {},
   "outputs": [
    {
     "name": "stdout",
     "output_type": "stream",
     "text": [
      "1 -- We covered:  Installation\n",
      "2 -- We covered:  coomand_line_tools\n",
      "3 -- We covered:  VScode_notepad_pythonapp\n",
      "4 -- We covered:  first_line_of_code\n",
      "5 -- We covered:  operators\n",
      "6 -- We covered:  comments\n",
      "7 -- We covered:  variables\n",
      "8 -- We covered:  type_conversion\n",
      "9 -- We covered:  if_elif_else\n",
      "10 -- We covered:  functions\n",
      "11 -- We covered:  Loops(while_for)\n",
      "12 -- We covered:  import_pythonlibrary\n",
      "13 -- We covered:  trouble_shooting\n"
     ]
    }
   ],
   "source": [
    "topic_cover = [\"Installation\",\"coomand_line_tools\", \"VScode_notepad_pythonapp\" , \"first_line_of_code\", \"operators\", \"comments\", \"variables\", \"type_conversion\", \"if_elif_else\", \"functions\", \"Loops(while_for)\",\"import_pythonlibrary\",\"trouble_shooting\"]\n",
    "\n",
    "for idx, val in enumerate(topic_cover):\n",
    "    print(idx +1, \"-- We covered: \", val)\n",
    "    "
   ]
  }
 ],
 "metadata": {
  "kernelspec": {
   "display_name": "Python 3 (ipykernel)",
   "language": "python",
   "name": "python3"
  },
  "language_info": {
   "codemirror_mode": {
    "name": "ipython",
    "version": 3
   },
   "file_extension": ".py",
   "mimetype": "text/x-python",
   "name": "python",
   "nbconvert_exporter": "python",
   "pygments_lexer": "ipython3",
   "version": "3.9.7"
  }
 },
 "nbformat": 4,
 "nbformat_minor": 5
}
