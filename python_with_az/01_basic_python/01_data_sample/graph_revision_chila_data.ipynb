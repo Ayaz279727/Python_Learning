{
 "cells": [
  {
   "cell_type": "markdown",
   "id": "e9dcf657",
   "metadata": {},
   "source": [
    "### lineplot"
   ]
  },
  {
   "cell_type": "code",
   "execution_count": null,
   "id": "53b508d9",
   "metadata": {},
   "outputs": [],
   "source": [
    "# import libraries\n",
    "import seaborn as sns\n",
    "import matplotlib.pyplot as plt\n",
    "import pandas as pd\n",
    "sns.set_style(style= None, rc= None)\n",
    "\n",
    "# import data\n",
    "class_data = pd.read_csv('data_viz.csv')\n",
    "class_data\n",
    "plt.figure(figsize=(6,5))    # location metters a lot \n",
    "\n",
    "sns.lineplot(x='Age', y='Gender', data=class_data, style_order=[\"1-15\",\"16-30\",\"30-40\",\"40-50\",])\n",
    "sns.set_style(\"darkgrid\")\n",
    "\n",
    "plt.title(\"Class age  \")\n",
    "plt.xlim(0)\n",
    "plt.ylim(2)\n",
    "\n"
   ]
  },
  {
   "cell_type": "markdown",
   "id": "774573ed",
   "metadata": {},
   "source": [
    "### barplot"
   ]
  },
  {
   "cell_type": "code",
   "execution_count": null,
   "id": "3bc3649a",
   "metadata": {},
   "outputs": [],
   "source": [
    "# import libraries\n",
    "import seaborn as sns\n",
    "import matplotlib.pyplot as plt\n",
    "import pandas as pd\n",
    "import numpy\n",
    "\n",
    "# import data\n",
    "class_data = pd.read_csv('data_viz.csv')\n",
    "class_data\n",
    "\n",
    "sns.barplot(x='Duration_(min)',y='Gender',data=class_data,hue='Gender',order=['Female','Male'], ci=None, )\n",
    "\n",
    "\n",
    "plt.title(\"Application Time\")\n",
    "plt.xlim(0)\n",
    "plt.ylim(2)\n"
   ]
  },
  {
   "cell_type": "markdown",
   "id": "e4f645f7",
   "metadata": {},
   "source": [
    "### boxplot"
   ]
  },
  {
   "cell_type": "code",
   "execution_count": 55,
   "id": "0a09ed49",
   "metadata": {},
   "outputs": [
    {
     "data": {
      "text/plain": [
       "<AxesSubplot:xlabel='Location', ylabel='Duration_(min)'>"
      ]
     },
     "execution_count": 55,
     "metadata": {},
     "output_type": "execute_result"
    },
    {
     "data": {
      "image/png": "[encoded data removed]",
      "text/plain": [
       "<Figure size 432x288 with 1 Axes>"
      ]
     },
     "metadata": {},
     "output_type": "display_data"
    }
   ],
   "source": [
    "# import seaborn \n",
    "import seaborn as sns\n",
    "import pandas as pd\n",
    "import numpy as np\n",
    "import matplotlib.pyplot as plt\n",
    "\n",
    "#canvas (Baloon board)\n",
    "sns.set(style='whitegrid')\n",
    "\n",
    "# dataset\n",
    "class_data = pd.read_csv('data_viz.csv')\n",
    "class_data\n",
    "sns.boxplot(x='Location', y='Duration_(min)',hue='Gender', data=class_data,\n",
    "              saturation=1, dodge=True, showmeans=True,\n",
    "            meanprops ={\"marker\":\"^\",\n",
    "                          \"markersize\":\"12\",\n",
    "                          \"markeredgecolor\": \"red\"})"
   ]
  },
  {
   "cell_type": "markdown",
   "id": "3bf94b6e",
   "metadata": {},
   "source": [
    "## Assignment facet grid and facet wrap"
   ]
  },
  {
   "cell_type": "code",
   "execution_count": 86,
   "id": "4b25aced",
   "metadata": {
    "scrolled": true
   },
   "outputs": [
    {
     "data": {
      "application/vnd.plotly.v1+json": {
       "config": {
        "plotlyServerURL": "https://plot.ly"
       },
       "data": [
        {
         "alignmentgroup": "True",
         "hovertemplate": "Age=16-30<br>Gender=Male<br>Location=%{y}<br>Time_of_class_(pm)=%{x}<extra></extra>",
         "legendgroup": "16-30",
         "marker": {
          "color": "#636efa"
         },
         "name": "16-30",
         "offsetgroup": "16-30",
         "orientation": "v",
         "showlegend": true,
         "textposition": "auto",
         "type": "bar",
         "x": [
          "10:30",
          "10:00",
          "10:00",
          "10:00",
          "10:00",
          "10:00",
          "10:30",
          "09:30",
          "10:00",
          "09:30",
          "10:00",
          "10:30",
          "10:30",
          "10:00",
          "10:30",
          "10:00",
          "10:00",
          "10:30",
          "10:00",
          "10:00",
          "09:30",
          "10:00",
          "10:00",
          "10:00",
          "10:30",
          "10:00",
          "09:30",
          "10:30",
          "10:00",
          "10:30",
          "10:00",
          "09:30",
          "10:30",
          "09:30",
          "10:30",
          "10:30",
          "10:30",
          "10:30",
          "10:30",
          "10:30",
          "09:30",
          "10:00",
          "10:00",
          "10:30",
          "09:30",
          "10:00",
          "10:00",
          "10:00",
          "09:30",
          "09:30",
          "10:30",
          "09:30",
          "10:00",
          "10:30",
          "10:00",
          "10:30",
          "10:00",
          "09:30",
          "09:30",
          "10:00",
          "10:30",
          "10:30",
          "10:30",
          "10:00",
          "09:30",
          "09:30",
          "09:30",
          "10:00",
          "09:30",
          "09:30",
          "09:30",
          "10:30",
          "10:30",
          "09:30",
          "09:30",
          "10:30",
          "10:30",
          "10:00",
          "10:00",
          "10:30",
          "10:30",
          "10:30",
          "09:30",
          "10:30",
          "09:30",
          "09:30",
          "10:30",
          "10:30",
          "09:30",
          "10:00",
          "10:00",
          "10:00",
          "09:30",
          "10:30",
          "10:30",
          "10:30",
          "10:00",
          "10:30",
          "10:30",
          "10:30",
          "10:30",
          "10:30",
          "10:30",
          "10:30",
          "10:00",
          "10:00",
          "09:30",
          "09:30",
          "10:00",
          "10:30",
          "10:00",
          "10:00",
          "09:30",
          "10:30",
          "10:30",
          "10:00",
          "09:30",
          "10:30",
          "10:00",
          "09:30",
          "10:00",
          "09:30",
          "10:30",
          "09:30",
          "09:30",
          "09:30",
          "10:30",
          "10:30",
          "10:30",
          "10:30",
          "10:00",
          "10:00",
          "10:00",
          "10:00",
          "10:30",
          "10:00",
          "10:00",
          "10:30",
          "09:30",
          "10:30",
          "10:00",
          "10:30",
          "10:30",
          "10:30",
          "10:30",
          "10:30",
          "09:30",
          "10:30",
          "10:00",
          "09:30",
          "10:00",
          "10:00",
          "09:30",
          "10:30",
          "10:00",
          "10:30"
         ],
         "xaxis": "x4",
         "y": [
          "Pakistan",
          "Pakistan",
          "Pakistan",
          "Pakistan",
          "Pakistan",
          "Pakistan",
          "Pakistan",
          "Pakistan",
          "Pakistan",
          "Pakistan",
          "Pakistan",
          "Pakistan",
          "Pakistan",
          "Pakistan",
          "Pakistan",
          "Pakistan",
          "Pakistan",
          "Pakistan",
          "Pakistan",
          "Pakistan",
          "Pakistan",
          "Pakistan",
          "Pakistan",
          "Pakistan",
          "Pakistan",
          "Pakistan",
          "Pakistan",
          "Pakistan",
          "Pakistan",
          "Pakistan",
          "Pakistan",
          "Pakistan",
          "Pakistan",
          "Pakistan",
          "Pakistan",
          "Pakistan",
          "Pakistan",
          "Pakistan",
          "Pakistan",
          "Pakistan",
          "Pakistan",
          "Pakistan",
          "Pakistan",
          "Pakistan",
          "Pakistan",
          "Pakistan",
          "Pakistan",
          "Pakistan",
          "Pakistan",
          "Pakistan",
          "Pakistan",
          "Pakistan",
          "Pakistan",
          "Pakistan",
          "Pakistan",
          "Pakistan",
          "Pakistan",
          "Pakistan",
          "Pakistan",
          "Pakistan",
          "Pakistan",
          "Pakistan",
          "Pakistan",
          "Pakistan",
          "Pakistan",
          "Pakistan",
          "Pakistan",
          "Pakistan",
          "Pakistan",
          "Pakistan",
          "Pakistan",
          "Pakistan",
          "Pakistan",
          "Pakistan",
          "Pakistan",
          "Pakistan",
          "Pakistan",
          "Pakistan",
          "Pakistan",
          "Pakistan",
          "Pakistan",
          "Pakistan",
          "Pakistan",
          "Pakistan",
          "Pakistan",
          "Pakistan",
          "Pakistan",
          "Pakistan",
          "Pakistan",
          "Pakistan",
          "Pakistan",
          "Pakistan",
          "Pakistan",
          "Pakistan",
          "Pakistan",
          "Pakistan",
          "Pakistan",
          "Pakistan",
          "Pakistan",
          "Pakistan",
          "Pakistan",
          "Pakistan",
          "Pakistan",
          "Pakistan",
          "Pakistan",
          "Pakistan",
          "Pakistan",
          "Pakistan",
          "Pakistan",
          "Pakistan",
          "Pakistan",
          "Pakistan",
          "Pakistan",
          "Pakistan",
          "Pakistan",
          "Pakistan",
          "Pakistan",
          "Pakistan",
          "Pakistan",
          "Pakistan",
          "Pakistan",
          "Pakistan",
          "Pakistan",
          "Pakistan",
          "Pakistan",
          "Pakistan",
          "Pakistan",
          "Pakistan",
          "Pakistan",
          "Pakistan",
          "Pakistan",
          "Pakistan",
          "Pakistan",
          "Pakistan",
          "Pakistan",
          "Pakistan",
          "Pakistan",
          "Pakistan",
          "Pakistan",
          "Pakistan",
          "Pakistan",
          "Pakistan",
          "Pakistan",
          "Pakistan",
          "Pakistan",
          "Pakistan",
          "Pakistan",
          "Pakistan",
          "Pakistan",
          "Pakistan",
          "Pakistan",
          "Pakistan",
          "Pakistan",
          "Pakistan",
          "Pakistan",
          "Pakistan"
         ],
         "yaxis": "y4"
        },
        {
         "alignmentgroup": "True",
         "hovertemplate": "Age=16-30<br>Gender=Male<br>Location=%{y}<br>Time_of_class_(pm)=%{x}<extra></extra>",
         "legendgroup": "16-30",
         "marker": {
          "color": "#636efa"
         },
         "name": "16-30",
         "offsetgroup": "16-30",
         "orientation": "v",
         "showlegend": false,
         "textposition": "auto",
         "type": "bar",
         "x": [
          "09:30",
          "09:30",
          "09:30",
          "09:30",
          "10:30",
          "09:30",
          "09:30",
          "09:30"
         ],
         "xaxis": "x5",
         "y": [
          "East",
          "East",
          "East",
          "East",
          "East",
          "East",
          "East",
          "East"
         ],
         "yaxis": "y5"
        },
        {
         "alignmentgroup": "True",
         "hovertemplate": "Age=16-30<br>Gender=Male<br>Location=%{y}<br>Time_of_class_(pm)=%{x}<extra></extra>",
         "legendgroup": "16-30",
         "marker": {
          "color": "#636efa"
         },
         "name": "16-30",
         "offsetgroup": "16-30",
         "orientation": "v",
         "showlegend": false,
         "textposition": "auto",
         "type": "bar",
         "x": [
          "10:30",
          "10:30",
          "10:30",
          "10:30",
          "10:00",
          "10:30",
          "10:30",
          "09:30",
          "10:00",
          "10:30",
          "10:00",
          "10:30",
          "10:30"
         ],
         "xaxis": "x6",
         "y": [
          "West",
          "West",
          "West",
          "West",
          "West",
          "West",
          "West",
          "West",
          "West",
          "West",
          "West",
          "West",
          "West"
         ],
         "yaxis": "y6"
        },
        {
         "alignmentgroup": "True",
         "hovertemplate": "Age=16-30<br>Gender=Female<br>Location=%{y}<br>Time_of_class_(pm)=%{x}<extra></extra>",
         "legendgroup": "16-30",
         "marker": {
          "color": "#636efa"
         },
         "name": "16-30",
         "offsetgroup": "16-30",
         "orientation": "v",
         "showlegend": false,
         "textposition": "auto",
         "type": "bar",
         "x": [
          "10:30",
          "10:00",
          "09:30",
          "10:30",
          "09:30",
          "10:00",
          "10:00",
          "09:30",
          "09:30",
          "10:30",
          "10:30",
          "10:00",
          "10:30",
          "09:30",
          "10:00",
          "10:00",
          "10:30",
          "10:00",
          "10:00",
          "09:30",
          "09:30",
          "10:00",
          "10:30",
          "10:00",
          "09:30",
          "09:30",
          "10:00",
          "10:00",
          "10:00",
          "10:30",
          "09:30",
          "10:30",
          "09:30",
          "10:30",
          "10:30",
          "10:30",
          "09:30",
          "09:30",
          "09:30",
          "10:30",
          "10:30"
         ],
         "xaxis": "x",
         "y": [
          "Pakistan",
          "Pakistan",
          "Pakistan",
          "Pakistan",
          "Pakistan",
          "Pakistan",
          "Pakistan",
          "Pakistan",
          "Pakistan",
          "Pakistan",
          "Pakistan",
          "Pakistan",
          "Pakistan",
          "Pakistan",
          "Pakistan",
          "Pakistan",
          "Pakistan",
          "Pakistan",
          "Pakistan",
          "Pakistan",
          "Pakistan",
          "Pakistan",
          "Pakistan",
          "Pakistan",
          "Pakistan",
          "Pakistan",
          "Pakistan",
          "Pakistan",
          "Pakistan",
          "Pakistan",
          "Pakistan",
          "Pakistan",
          "Pakistan",
          "Pakistan",
          "Pakistan",
          "Pakistan",
          "Pakistan",
          "Pakistan",
          "Pakistan",
          "Pakistan",
          "Pakistan"
         ],
         "yaxis": "y"
        },
        {
         "alignmentgroup": "True",
         "hovertemplate": "Age=16-30<br>Gender=Female<br>Location=%{y}<br>Time_of_class_(pm)=%{x}<extra></extra>",
         "legendgroup": "16-30",
         "marker": {
          "color": "#636efa"
         },
         "name": "16-30",
         "offsetgroup": "16-30",
         "orientation": "v",
         "showlegend": false,
         "textposition": "auto",
         "type": "bar",
         "x": [
          "09:30",
          "09:30",
          "10:00"
         ],
         "xaxis": "x2",
         "y": [
          "East",
          "East",
          "East"
         ],
         "yaxis": "y2"
        },
        {
         "alignmentgroup": "True",
         "hovertemplate": "Age=16-30<br>Gender=Female<br>Location=%{y}<br>Time_of_class_(pm)=%{x}<extra></extra>",
         "legendgroup": "16-30",
         "marker": {
          "color": "#636efa"
         },
         "name": "16-30",
         "offsetgroup": "16-30",
         "orientation": "v",
         "showlegend": false,
         "textposition": "auto",
         "type": "bar",
         "x": [
          "10:30",
          "10:30",
          "10:30",
          "10:30",
          "10:30",
          "10:30",
          "10:00"
         ],
         "xaxis": "x3",
         "y": [
          "West",
          "West",
          "West",
          "West",
          "West",
          "West",
          "West"
         ],
         "yaxis": "y3"
        },
        {
         "alignmentgroup": "True",
         "hovertemplate": "Age=30-40<br>Gender=Male<br>Location=%{y}<br>Time_of_class_(pm)=%{x}<extra></extra>",
         "legendgroup": "30-40",
         "marker": {
          "color": "#EF553B"
         },
         "name": "30-40",
         "offsetgroup": "30-40",
         "orientation": "v",
         "showlegend": true,
         "textposition": "auto",
         "type": "bar",
         "x": [
          "09:30",
          "10:30",
          "10:30",
          "10:30",
          "10:30",
          "10:00",
          "10:00",
          "09:30",
          "10:30",
          "10:00",
          "10:00",
          "10:30",
          "10:00",
          "10:00",
          "09:30",
          "10:00",
          "09:30",
          "10:00",
          "10:00",
          "09:30",
          "10:30",
          "09:30",
          "10:00",
          "10:00",
          "10:30",
          "10:00",
          "10:00",
          "10:00",
          "10:30",
          "09:30",
          "10:00",
          "10:00",
          "10:30",
          "09:30",
          "10:00",
          "09:30",
          "09:30",
          "10:30",
          "09:30",
          "10:30",
          "09:30",
          "10:30",
          "09:30"
         ],
         "xaxis": "x4",
         "y": [
          "Pakistan",
          "Pakistan",
          "Pakistan",
          "Pakistan",
          "Pakistan",
          "Pakistan",
          "Pakistan",
          "Pakistan",
          "Pakistan",
          "Pakistan",
          "Pakistan",
          "Pakistan",
          "Pakistan",
          "Pakistan",
          "Pakistan",
          "Pakistan",
          "Pakistan",
          "Pakistan",
          "Pakistan",
          "Pakistan",
          "Pakistan",
          "Pakistan",
          "Pakistan",
          "Pakistan",
          "Pakistan",
          "Pakistan",
          "Pakistan",
          "Pakistan",
          "Pakistan",
          "Pakistan",
          "Pakistan",
          "Pakistan",
          "Pakistan",
          "Pakistan",
          "Pakistan",
          "Pakistan",
          "Pakistan",
          "Pakistan",
          "Pakistan",
          "Pakistan",
          "Pakistan",
          "Pakistan",
          "Pakistan"
         ],
         "yaxis": "y4"
        },
        {
         "alignmentgroup": "True",
         "hovertemplate": "Age=30-40<br>Gender=Male<br>Location=%{y}<br>Time_of_class_(pm)=%{x}<extra></extra>",
         "legendgroup": "30-40",
         "marker": {
          "color": "#EF553B"
         },
         "name": "30-40",
         "offsetgroup": "30-40",
         "orientation": "v",
         "showlegend": false,
         "textposition": "auto",
         "type": "bar",
         "x": [
          "09:30",
          "10:30",
          "09:30",
          "09:30"
         ],
         "xaxis": "x5",
         "y": [
          "East",
          "East",
          "East",
          "East"
         ],
         "yaxis": "y5"
        },
        {
         "alignmentgroup": "True",
         "hovertemplate": "Age=30-40<br>Gender=Male<br>Location=%{y}<br>Time_of_class_(pm)=%{x}<extra></extra>",
         "legendgroup": "30-40",
         "marker": {
          "color": "#EF553B"
         },
         "name": "30-40",
         "offsetgroup": "30-40",
         "orientation": "v",
         "showlegend": false,
         "textposition": "auto",
         "type": "bar",
         "x": [
          "10:00",
          "10:30",
          "09:30",
          "10:30",
          "10:30",
          "10:30",
          "10:00",
          "10:30"
         ],
         "xaxis": "x6",
         "y": [
          "West",
          "West",
          "West",
          "West",
          "West",
          "West",
          "West",
          "West"
         ],
         "yaxis": "y6"
        },
        {
         "alignmentgroup": "True",
         "hovertemplate": "Age=30-40<br>Gender=Female<br>Location=%{y}<br>Time_of_class_(pm)=%{x}<extra></extra>",
         "legendgroup": "30-40",
         "marker": {
          "color": "#EF553B"
         },
         "name": "30-40",
         "offsetgroup": "30-40",
         "orientation": "v",
         "showlegend": false,
         "textposition": "auto",
         "type": "bar",
         "x": [
          "09:30",
          "10:30",
          "10:00",
          "10:00",
          "10:30",
          "10:00",
          "10:30",
          "10:30",
          "10:30",
          "10:00"
         ],
         "xaxis": "x",
         "y": [
          "Pakistan",
          "Pakistan",
          "Pakistan",
          "Pakistan",
          "Pakistan",
          "Pakistan",
          "Pakistan",
          "Pakistan",
          "Pakistan",
          "Pakistan"
         ],
         "yaxis": "y"
        },
        {
         "alignmentgroup": "True",
         "hovertemplate": "Age=30-40<br>Gender=Female<br>Location=%{y}<br>Time_of_class_(pm)=%{x}<extra></extra>",
         "legendgroup": "30-40",
         "marker": {
          "color": "#EF553B"
         },
         "name": "30-40",
         "offsetgroup": "30-40",
         "orientation": "v",
         "showlegend": false,
         "textposition": "auto",
         "type": "bar",
         "x": [
          "10:30"
         ],
         "xaxis": "x3",
         "y": [
          "West"
         ],
         "yaxis": "y3"
        },
        {
         "alignmentgroup": "True",
         "hovertemplate": "Age=>50<br>Gender=Male<br>Location=%{y}<br>Time_of_class_(pm)=%{x}<extra></extra>",
         "legendgroup": ">50",
         "marker": {
          "color": "#00cc96"
         },
         "name": ">50",
         "offsetgroup": ">50",
         "orientation": "v",
         "showlegend": true,
         "textposition": "auto",
         "type": "bar",
         "x": [
          "10:30",
          "10:00"
         ],
         "xaxis": "x4",
         "y": [
          "Pakistan",
          "Pakistan"
         ],
         "yaxis": "y4"
        },
        {
         "alignmentgroup": "True",
         "hovertemplate": "Age=>50<br>Gender=Male<br>Location=%{y}<br>Time_of_class_(pm)=%{x}<extra></extra>",
         "legendgroup": ">50",
         "marker": {
          "color": "#00cc96"
         },
         "name": ">50",
         "offsetgroup": ">50",
         "orientation": "v",
         "showlegend": false,
         "textposition": "auto",
         "type": "bar",
         "x": [
          "10:30"
         ],
         "xaxis": "x6",
         "y": [
          "West"
         ],
         "yaxis": "y6"
        },
        {
         "alignmentgroup": "True",
         "hovertemplate": "Age=40-50<br>Gender=Male<br>Location=%{y}<br>Time_of_class_(pm)=%{x}<extra></extra>",
         "legendgroup": "40-50",
         "marker": {
          "color": "#ab63fa"
         },
         "name": "40-50",
         "offsetgroup": "40-50",
         "orientation": "v",
         "showlegend": true,
         "textposition": "auto",
         "type": "bar",
         "x": [
          "09:30",
          "10:00",
          "10:00",
          "10:30",
          "10:30",
          "10:00"
         ],
         "xaxis": "x4",
         "y": [
          "Pakistan",
          "Pakistan",
          "Pakistan",
          "Pakistan",
          "Pakistan",
          "Pakistan"
         ],
         "yaxis": "y4"
        },
        {
         "alignmentgroup": "True",
         "hovertemplate": "Age=40-50<br>Gender=Male<br>Location=%{y}<br>Time_of_class_(pm)=%{x}<extra></extra>",
         "legendgroup": "40-50",
         "marker": {
          "color": "#ab63fa"
         },
         "name": "40-50",
         "offsetgroup": "40-50",
         "orientation": "v",
         "showlegend": false,
         "textposition": "auto",
         "type": "bar",
         "x": [
          "10:30"
         ],
         "xaxis": "x6",
         "y": [
          "West"
         ],
         "yaxis": "y6"
        },
        {
         "alignmentgroup": "True",
         "hovertemplate": "Age=1-15<br>Gender=Male<br>Location=%{y}<br>Time_of_class_(pm)=%{x}<extra></extra>",
         "legendgroup": "1-15",
         "marker": {
          "color": "#FFA15A"
         },
         "name": "1-15",
         "offsetgroup": "1-15",
         "orientation": "v",
         "showlegend": true,
         "textposition": "auto",
         "type": "bar",
         "x": [
          "10:30"
         ],
         "xaxis": "x6",
         "y": [
          "West"
         ],
         "yaxis": "y6"
        },
        {
         "alignmentgroup": "True",
         "hovertemplate": "Age=1-15<br>Gender=Female<br>Location=%{y}<br>Time_of_class_(pm)=%{x}<extra></extra>",
         "legendgroup": "1-15",
         "marker": {
          "color": "#FFA15A"
         },
         "name": "1-15",
         "offsetgroup": "1-15",
         "orientation": "v",
         "showlegend": false,
         "textposition": "auto",
         "type": "bar",
         "x": [
          "10:30"
         ],
         "xaxis": "x3",
         "y": [
          "West"
         ],
         "yaxis": "y3"
        }
       ],
       "layout": {
        "annotations": [
         {
          "font": {},
          "showarrow": false,
          "text": "Location=Pakistan",
          "x": 0.15666666666666665,
          "xanchor": "center",
          "xref": "paper",
          "y": 1,
          "yanchor": "bottom",
          "yref": "paper"
         },
         {
          "font": {},
          "showarrow": false,
          "text": "Location=East",
          "x": 0.49,
          "xanchor": "center",
          "xref": "paper",
          "y": 1,
          "yanchor": "bottom",
          "yref": "paper"
         },
         {
          "font": {},
          "showarrow": false,
          "text": "Location=West",
          "x": 0.8233333333333333,
          "xanchor": "center",
          "xref": "paper",
          "y": 1,
          "yanchor": "bottom",
          "yref": "paper"
         },
         {
          "font": {},
          "showarrow": false,
          "text": "Gender=Female",
          "textangle": 90,
          "x": 0.98,
          "xanchor": "left",
          "xref": "paper",
          "y": 0.2425,
          "yanchor": "middle",
          "yref": "paper"
         },
         {
          "font": {},
          "showarrow": false,
          "text": "Gender=Male",
          "textangle": 90,
          "x": 0.98,
          "xanchor": "left",
          "xref": "paper",
          "y": 0.7575000000000001,
          "yanchor": "middle",
          "yref": "paper"
         }
        ],
        "barmode": "relative",
        "legend": {
         "title": {
          "text": "Age"
         },
         "tracegroupgap": 0
        },
        "margin": {
         "t": 60
        },
        "template": {
         "data": {
          "bar": [
           {
            "error_x": {
             "color": "#2a3f5f"
            },
            "error_y": {
             "color": "#2a3f5f"
            },
            "marker": {
             "line": {
              "color": "#E5ECF6",
              "width": 0.5
             }
            },
            "type": "bar"
           }
          ],
          "barpolar": [
           {
            "marker": {
             "line": {
              "color": "#E5ECF6",
              "width": 0.5
             }
            },
            "type": "barpolar"
           }
          ],
          "carpet": [
           {
            "aaxis": {
             "endlinecolor": "#2a3f5f",
             "gridcolor": "white",
             "linecolor": "white",
             "minorgridcolor": "white",
             "startlinecolor": "#2a3f5f"
            },
            "baxis": {
             "endlinecolor": "#2a3f5f",
             "gridcolor": "white",
             "linecolor": "white",
             "minorgridcolor": "white",
             "startlinecolor": "#2a3f5f"
            },
            "type": "carpet"
           }
          ],
          "choropleth": [
           {
            "colorbar": {
             "outlinewidth": 0,
             "ticks": ""
            },
            "type": "choropleth"
           }
          ],
          "contour": [
           {
            "colorbar": {
             "outlinewidth": 0,
             "ticks": ""
            },
            "colorscale": [
             [
              0,
              "#0d0887"
             ],
             [
              0.1111111111111111,
              "#46039f"
             ],
             [
              0.2222222222222222,
              "#7201a8"
             ],
             [
              0.3333333333333333,
              "#9c179e"
             ],
             [
              0.4444444444444444,
              "#bd3786"
             ],
             [
              0.5555555555555556,
              "#d8576b"
             ],
             [
              0.6666666666666666,
              "#ed7953"
             ],
             [
              0.7777777777777778,
              "#fb9f3a"
             ],
             [
              0.8888888888888888,
              "#fdca26"
             ],
             [
              1,
              "#f0f921"
             ]
            ],
            "type": "contour"
           }
          ],
          "contourcarpet": [
           {
            "colorbar": {
             "outlinewidth": 0,
             "ticks": ""
            },
            "type": "contourcarpet"
           }
          ],
          "heatmap": [
           {
            "colorbar": {
             "outlinewidth": 0,
             "ticks": ""
            },
            "colorscale": [
             [
              0,
              "#0d0887"
             ],
             [
              0.1111111111111111,
              "#46039f"
             ],
             [
              0.2222222222222222,
              "#7201a8"
             ],
             [
              0.3333333333333333,
              "#9c179e"
             ],
             [
              0.4444444444444444,
              "#bd3786"
             ],
             [
              0.5555555555555556,
              "#d8576b"
             ],
             [
              0.6666666666666666,
              "#ed7953"
             ],
             [
              0.7777777777777778,
              "#fb9f3a"
             ],
             [
              0.8888888888888888,
              "#fdca26"
             ],
             [
              1,
              "#f0f921"
             ]
            ],
            "type": "heatmap"
           }
          ],
          "heatmapgl": [
           {
            "colorbar": {
             "outlinewidth": 0,
             "ticks": ""
            },
            "colorscale": [
             [
              0,
              "#0d0887"
             ],
             [
              0.1111111111111111,
              "#46039f"
             ],
             [
              0.2222222222222222,
              "#7201a8"
             ],
             [
              0.3333333333333333,
              "#9c179e"
             ],
             [
              0.4444444444444444,
              "#bd3786"
             ],
             [
              0.5555555555555556,
              "#d8576b"
             ],
             [
              0.6666666666666666,
              "#ed7953"
             ],
             [
              0.7777777777777778,
              "#fb9f3a"
             ],
             [
              0.8888888888888888,
              "#fdca26"
             ],
             [
              1,
              "#f0f921"
             ]
            ],
            "type": "heatmapgl"
           }
          ],
          "histogram": [
           {
            "marker": {
             "colorbar": {
              "outlinewidth": 0,
              "ticks": ""
             }
            },
            "type": "histogram"
           }
          ],
          "histogram2d": [
           {
            "colorbar": {
             "outlinewidth": 0,
             "ticks": ""
            },
            "colorscale": [
             [
              0,
              "#0d0887"
             ],
             [
              0.1111111111111111,
              "#46039f"
             ],
             [
              0.2222222222222222,
              "#7201a8"
             ],
             [
              0.3333333333333333,
              "#9c179e"
             ],
             [
              0.4444444444444444,
              "#bd3786"
             ],
             [
              0.5555555555555556,
              "#d8576b"
             ],
             [
              0.6666666666666666,
              "#ed7953"
             ],
             [
              0.7777777777777778,
              "#fb9f3a"
             ],
             [
              0.8888888888888888,
              "#fdca26"
             ],
             [
              1,
              "#f0f921"
             ]
            ],
            "type": "histogram2d"
           }
          ],
          "histogram2dcontour": [
           {
            "colorbar": {
             "outlinewidth": 0,
             "ticks": ""
            },
            "colorscale": [
             [
              0,
              "#0d0887"
             ],
             [
              0.1111111111111111,
              "#46039f"
             ],
             [
              0.2222222222222222,
              "#7201a8"
             ],
             [
              0.3333333333333333,
              "#9c179e"
             ],
             [
              0.4444444444444444,
              "#bd3786"
             ],
             [
              0.5555555555555556,
              "#d8576b"
             ],
             [
              0.6666666666666666,
              "#ed7953"
             ],
             [
              0.7777777777777778,
              "#fb9f3a"
             ],
             [
              0.8888888888888888,
              "#fdca26"
             ],
             [
              1,
              "#f0f921"
             ]
            ],
            "type": "histogram2dcontour"
           }
          ],
          "mesh3d": [
           {
            "colorbar": {
             "outlinewidth": 0,
             "ticks": ""
            },
            "type": "mesh3d"
           }
          ],
          "parcoords": [
           {
            "line": {
             "colorbar": {
              "outlinewidth": 0,
              "ticks": ""
             }
            },
            "type": "parcoords"
           }
          ],
          "pie": [
           {
            "automargin": true,
            "type": "pie"
           }
          ],
          "scatter": [
           {
            "marker": {
             "colorbar": {
              "outlinewidth": 0,
              "ticks": ""
             }
            },
            "type": "scatter"
           }
          ],
          "scatter3d": [
           {
            "line": {
             "colorbar": {
              "outlinewidth": 0,
              "ticks": ""
             }
            },
            "marker": {
             "colorbar": {
              "outlinewidth": 0,
              "ticks": ""
             }
            },
            "type": "scatter3d"
           }
          ],
          "scattercarpet": [
           {
            "marker": {
             "colorbar": {
              "outlinewidth": 0,
              "ticks": ""
             }
            },
            "type": "scattercarpet"
           }
          ],
          "scattergeo": [
           {
            "marker": {
             "colorbar": {
              "outlinewidth": 0,
              "ticks": ""
             }
            },
            "type": "scattergeo"
           }
          ],
          "scattergl": [
           {
            "marker": {
             "colorbar": {
              "outlinewidth": 0,
              "ticks": ""
             }
            },
            "type": "scattergl"
           }
          ],
          "scattermapbox": [
           {
            "marker": {
             "colorbar": {
              "outlinewidth": 0,
              "ticks": ""
             }
            },
            "type": "scattermapbox"
           }
          ],
          "scatterpolar": [
           {
            "marker": {
             "colorbar": {
              "outlinewidth": 0,
              "ticks": ""
             }
            },
            "type": "scatterpolar"
           }
          ],
          "scatterpolargl": [
           {
            "marker": {
             "colorbar": {
              "outlinewidth": 0,
              "ticks": ""
             }
            },
            "type": "scatterpolargl"
           }
          ],
          "scatterternary": [
           {
            "marker": {
             "colorbar": {
              "outlinewidth": 0,
              "ticks": ""
             }
            },
            "type": "scatterternary"
           }
          ],
          "surface": [
           {
            "colorbar": {
             "outlinewidth": 0,
             "ticks": ""
            },
            "colorscale": [
             [
              0,
              "#0d0887"
             ],
             [
              0.1111111111111111,
              "#46039f"
             ],
             [
              0.2222222222222222,
              "#7201a8"
             ],
             [
              0.3333333333333333,
              "#9c179e"
             ],
             [
              0.4444444444444444,
              "#bd3786"
             ],
             [
              0.5555555555555556,
              "#d8576b"
             ],
             [
              0.6666666666666666,
              "#ed7953"
             ],
             [
              0.7777777777777778,
              "#fb9f3a"
             ],
             [
              0.8888888888888888,
              "#fdca26"
             ],
             [
              1,
              "#f0f921"
             ]
            ],
            "type": "surface"
           }
          ],
          "table": [
           {
            "cells": {
             "fill": {
              "color": "#EBF0F8"
             },
             "line": {
              "color": "white"
             }
            },
            "header": {
             "fill": {
              "color": "#C8D4E3"
             },
             "line": {
              "color": "white"
             }
            },
            "type": "table"
           }
          ]
         },
         "layout": {
          "annotationdefaults": {
           "arrowcolor": "#2a3f5f",
           "arrowhead": 0,
           "arrowwidth": 1
          },
          "coloraxis": {
           "colorbar": {
            "outlinewidth": 0,
            "ticks": ""
           }
          },
          "colorscale": {
           "diverging": [
            [
             0,
             "#8e0152"
            ],
            [
             0.1,
             "#c51b7d"
            ],
            [
             0.2,
             "#de77ae"
            ],
            [
             0.3,
             "#f1b6da"
            ],
            [
             0.4,
             "#fde0ef"
            ],
            [
             0.5,
             "#f7f7f7"
            ],
            [
             0.6,
             "#e6f5d0"
            ],
            [
             0.7,
             "#b8e186"
            ],
            [
             0.8,
             "#7fbc41"
            ],
            [
             0.9,
             "#4d9221"
            ],
            [
             1,
             "#276419"
            ]
           ],
           "sequential": [
            [
             0,
             "#0d0887"
            ],
            [
             0.1111111111111111,
             "#46039f"
            ],
            [
             0.2222222222222222,
             "#7201a8"
            ],
            [
             0.3333333333333333,
             "#9c179e"
            ],
            [
             0.4444444444444444,
             "#bd3786"
            ],
            [
             0.5555555555555556,
             "#d8576b"
            ],
            [
             0.6666666666666666,
             "#ed7953"
            ],
            [
             0.7777777777777778,
             "#fb9f3a"
            ],
            [
             0.8888888888888888,
             "#fdca26"
            ],
            [
             1,
             "#f0f921"
            ]
           ],
           "sequentialminus": [
            [
             0,
             "#0d0887"
            ],
            [
             0.1111111111111111,
             "#46039f"
            ],
            [
             0.2222222222222222,
             "#7201a8"
            ],
            [
             0.3333333333333333,
             "#9c179e"
            ],
            [
             0.4444444444444444,
             "#bd3786"
            ],
            [
             0.5555555555555556,
             "#d8576b"
            ],
            [
             0.6666666666666666,
             "#ed7953"
            ],
            [
             0.7777777777777778,
             "#fb9f3a"
            ],
            [
             0.8888888888888888,
             "#fdca26"
            ],
            [
             1,
             "#f0f921"
            ]
           ]
          },
          "colorway": [
           "#636efa",
           "#EF553B",
           "#00cc96",
           "#ab63fa",
           "#FFA15A",
           "#19d3f3",
           "#FF6692",
           "#B6E880",
           "#FF97FF",
           "#FECB52"
          ],
          "font": {
           "color": "#2a3f5f"
          },
          "geo": {
           "bgcolor": "white",
           "lakecolor": "white",
           "landcolor": "#E5ECF6",
           "showlakes": true,
           "showland": true,
           "subunitcolor": "white"
          },
          "hoverlabel": {
           "align": "left"
          },
          "hovermode": "closest",
          "mapbox": {
           "style": "light"
          },
          "paper_bgcolor": "white",
          "plot_bgcolor": "#E5ECF6",
          "polar": {
           "angularaxis": {
            "gridcolor": "white",
            "linecolor": "white",
            "ticks": ""
           },
           "bgcolor": "#E5ECF6",
           "radialaxis": {
            "gridcolor": "white",
            "linecolor": "white",
            "ticks": ""
           }
          },
          "scene": {
           "xaxis": {
            "backgroundcolor": "#E5ECF6",
            "gridcolor": "white",
            "gridwidth": 2,
            "linecolor": "white",
            "showbackground": true,
            "ticks": "",
            "zerolinecolor": "white"
           },
           "yaxis": {
            "backgroundcolor": "#E5ECF6",
            "gridcolor": "white",
            "gridwidth": 2,
            "linecolor": "white",
            "showbackground": true,
            "ticks": "",
            "zerolinecolor": "white"
           },
           "zaxis": {
            "backgroundcolor": "#E5ECF6",
            "gridcolor": "white",
            "gridwidth": 2,
            "linecolor": "white",
            "showbackground": true,
            "ticks": "",
            "zerolinecolor": "white"
           }
          },
          "shapedefaults": {
           "line": {
            "color": "#2a3f5f"
           }
          },
          "ternary": {
           "aaxis": {
            "gridcolor": "white",
            "linecolor": "white",
            "ticks": ""
           },
           "baxis": {
            "gridcolor": "white",
            "linecolor": "white",
            "ticks": ""
           },
           "bgcolor": "#E5ECF6",
           "caxis": {
            "gridcolor": "white",
            "linecolor": "white",
            "ticks": ""
           }
          },
          "title": {
           "x": 0.05
          },
          "xaxis": {
           "automargin": true,
           "gridcolor": "white",
           "linecolor": "white",
           "ticks": "",
           "title": {
            "standoff": 15
           },
           "zerolinecolor": "white",
           "zerolinewidth": 2
          },
          "yaxis": {
           "automargin": true,
           "gridcolor": "white",
           "linecolor": "white",
           "ticks": "",
           "title": {
            "standoff": 15
           },
           "zerolinecolor": "white",
           "zerolinewidth": 2
          }
         }
        },
        "xaxis": {
         "anchor": "y",
         "domain": [
          0,
          0.3133333333333333
         ],
         "title": {
          "text": "Time_of_class_(pm)"
         }
        },
        "xaxis2": {
         "anchor": "y2",
         "domain": [
          0.3333333333333333,
          0.6466666666666666
         ],
         "matches": "x",
         "title": {
          "text": "Time_of_class_(pm)"
         }
        },
        "xaxis3": {
         "anchor": "y3",
         "domain": [
          0.6666666666666666,
          0.98
         ],
         "matches": "x",
         "title": {
          "text": "Time_of_class_(pm)"
         }
        },
        "xaxis4": {
         "anchor": "y4",
         "domain": [
          0,
          0.3133333333333333
         ],
         "matches": "x",
         "showticklabels": false
        },
        "xaxis5": {
         "anchor": "y5",
         "domain": [
          0.3333333333333333,
          0.6466666666666666
         ],
         "matches": "x",
         "showticklabels": false
        },
        "xaxis6": {
         "anchor": "y6",
         "domain": [
          0.6666666666666666,
          0.98
         ],
         "matches": "x",
         "showticklabels": false
        },
        "yaxis": {
         "anchor": "x",
         "categoryarray": [
          "West",
          "East",
          "Pakistan"
         ],
         "categoryorder": "array",
         "domain": [
          0,
          0.485
         ],
         "title": {
          "text": "Location"
         }
        },
        "yaxis2": {
         "anchor": "x2",
         "domain": [
          0,
          0.485
         ],
         "matches": "y",
         "showticklabels": false
        },
        "yaxis3": {
         "anchor": "x3",
         "domain": [
          0,
          0.485
         ],
         "matches": "y",
         "showticklabels": false
        },
        "yaxis4": {
         "anchor": "x4",
         "categoryarray": [
          "West",
          "East",
          "Pakistan"
         ],
         "categoryorder": "array",
         "domain": [
          0.515,
          1
         ],
         "matches": "y",
         "title": {
          "text": "Location"
         }
        },
        "yaxis5": {
         "anchor": "x5",
         "domain": [
          0.515,
          1
         ],
         "matches": "y",
         "showticklabels": false
        },
        "yaxis6": {
         "anchor": "x6",
         "domain": [
          0.515,
          1
         ],
         "matches": "y",
         "showticklabels": false
        }
       }
      },
      "text/html": [
       "<div>\n",
       "        \n",
       "        \n",
       "            <div id=\"9fab1b4f-3bc4-482b-a205-72112a1baf58\" class=\"plotly-graph-div\" style=\"height:525px; width:100%;\"></div>\n",
       "            <script type=\"text/javascript\">\n",
       "                require([\"plotly\"], function(Plotly) {\n",
       "                    window.PLOTLYENV=window.PLOTLYENV || {};\n",
       "                    \n",
       "                if (document.getElementById(\"9fab1b4f-3bc4-482b-a205-72112a1baf58\")) {\n",
       "                    Plotly.newPlot(\n",
       "                        '9fab1b4f-3bc4-482b-a205-72112a1baf58',\n",
       "                        [{\"alignmentgroup\": \"True\", \"hovertemplate\": \"Age=16-30<br>Gender=Male<br>Location=%{y}<br>Time_of_class_(pm)=%{x}<extra></extra>\", \"legendgroup\": \"16-30\", \"marker\": {\"color\": \"#636efa\"}, \"name\": \"16-30\", \"offsetgroup\": \"16-30\", \"orientation\": \"v\", \"showlegend\": true, \"textposition\": \"auto\", \"type\": \"bar\", \"x\": [\"10:30\", \"10:00\", \"10:00\", \"10:00\", \"10:00\", \"10:00\", \"10:30\", \"09:30\", \"10:00\", \"09:30\", \"10:00\", \"10:30\", \"10:30\", \"10:00\", \"10:30\", \"10:00\", \"10:00\", \"10:30\", \"10:00\", \"10:00\", \"09:30\", \"10:00\", \"10:00\", \"10:00\", \"10:30\", \"10:00\", \"09:30\", \"10:30\", \"10:00\", \"10:30\", \"10:00\", \"09:30\", \"10:30\", \"09:30\", \"10:30\", \"10:30\", \"10:30\", \"10:30\", \"10:30\", \"10:30\", \"09:30\", \"10:00\", \"10:00\", \"10:30\", \"09:30\", \"10:00\", \"10:00\", \"10:00\", \"09:30\", \"09:30\", \"10:30\", \"09:30\", \"10:00\", \"10:30\", \"10:00\", \"10:30\", \"10:00\", \"09:30\", \"09:30\", \"10:00\", \"10:30\", \"10:30\", \"10:30\", \"10:00\", \"09:30\", \"09:30\", \"09:30\", \"10:00\", \"09:30\", \"09:30\", \"09:30\", \"10:30\", \"10:30\", \"09:30\", \"09:30\", \"10:30\", \"10:30\", \"10:00\", \"10:00\", \"10:30\", \"10:30\", \"10:30\", \"09:30\", \"10:30\", \"09:30\", \"09:30\", \"10:30\", \"10:30\", \"09:30\", \"10:00\", \"10:00\", \"10:00\", \"09:30\", \"10:30\", \"10:30\", \"10:30\", \"10:00\", \"10:30\", \"10:30\", \"10:30\", \"10:30\", \"10:30\", \"10:30\", \"10:30\", \"10:00\", \"10:00\", \"09:30\", \"09:30\", \"10:00\", \"10:30\", \"10:00\", \"10:00\", \"09:30\", \"10:30\", \"10:30\", \"10:00\", \"09:30\", \"10:30\", \"10:00\", \"09:30\", \"10:00\", \"09:30\", \"10:30\", \"09:30\", \"09:30\", \"09:30\", \"10:30\", \"10:30\", \"10:30\", \"10:30\", \"10:00\", \"10:00\", \"10:00\", \"10:00\", \"10:30\", \"10:00\", \"10:00\", \"10:30\", \"09:30\", \"10:30\", \"10:00\", \"10:30\", \"10:30\", \"10:30\", \"10:30\", \"10:30\", \"09:30\", \"10:30\", \"10:00\", \"09:30\", \"10:00\", \"10:00\", \"09:30\", \"10:30\", \"10:00\", \"10:30\"], \"xaxis\": \"x4\", \"y\": [\"Pakistan\", \"Pakistan\", \"Pakistan\", \"Pakistan\", \"Pakistan\", \"Pakistan\", \"Pakistan\", \"Pakistan\", \"Pakistan\", \"Pakistan\", \"Pakistan\", \"Pakistan\", \"Pakistan\", \"Pakistan\", \"Pakistan\", \"Pakistan\", \"Pakistan\", \"Pakistan\", \"Pakistan\", \"Pakistan\", \"Pakistan\", \"Pakistan\", \"Pakistan\", \"Pakistan\", \"Pakistan\", \"Pakistan\", \"Pakistan\", \"Pakistan\", \"Pakistan\", \"Pakistan\", \"Pakistan\", \"Pakistan\", \"Pakistan\", \"Pakistan\", \"Pakistan\", \"Pakistan\", \"Pakistan\", \"Pakistan\", \"Pakistan\", \"Pakistan\", \"Pakistan\", \"Pakistan\", \"Pakistan\", \"Pakistan\", \"Pakistan\", \"Pakistan\", \"Pakistan\", \"Pakistan\", \"Pakistan\", \"Pakistan\", \"Pakistan\", \"Pakistan\", \"Pakistan\", \"Pakistan\", \"Pakistan\", \"Pakistan\", \"Pakistan\", \"Pakistan\", \"Pakistan\", \"Pakistan\", \"Pakistan\", \"Pakistan\", \"Pakistan\", \"Pakistan\", \"Pakistan\", \"Pakistan\", \"Pakistan\", \"Pakistan\", \"Pakistan\", \"Pakistan\", \"Pakistan\", \"Pakistan\", \"Pakistan\", \"Pakistan\", \"Pakistan\", \"Pakistan\", \"Pakistan\", \"Pakistan\", \"Pakistan\", \"Pakistan\", \"Pakistan\", \"Pakistan\", \"Pakistan\", \"Pakistan\", \"Pakistan\", \"Pakistan\", \"Pakistan\", \"Pakistan\", \"Pakistan\", \"Pakistan\", \"Pakistan\", \"Pakistan\", \"Pakistan\", \"Pakistan\", \"Pakistan\", \"Pakistan\", \"Pakistan\", \"Pakistan\", \"Pakistan\", \"Pakistan\", \"Pakistan\", \"Pakistan\", \"Pakistan\", \"Pakistan\", \"Pakistan\", \"Pakistan\", \"Pakistan\", \"Pakistan\", \"Pakistan\", \"Pakistan\", \"Pakistan\", \"Pakistan\", \"Pakistan\", \"Pakistan\", \"Pakistan\", \"Pakistan\", \"Pakistan\", \"Pakistan\", \"Pakistan\", \"Pakistan\", \"Pakistan\", \"Pakistan\", \"Pakistan\", \"Pakistan\", \"Pakistan\", \"Pakistan\", \"Pakistan\", \"Pakistan\", \"Pakistan\", \"Pakistan\", \"Pakistan\", \"Pakistan\", \"Pakistan\", \"Pakistan\", \"Pakistan\", \"Pakistan\", \"Pakistan\", \"Pakistan\", \"Pakistan\", \"Pakistan\", \"Pakistan\", \"Pakistan\", \"Pakistan\", \"Pakistan\", \"Pakistan\", \"Pakistan\", \"Pakistan\", \"Pakistan\", \"Pakistan\", \"Pakistan\", \"Pakistan\", \"Pakistan\", \"Pakistan\", \"Pakistan\", \"Pakistan\", \"Pakistan\"], \"yaxis\": \"y4\"}, {\"alignmentgroup\": \"True\", \"hovertemplate\": \"Age=16-30<br>Gender=Male<br>Location=%{y}<br>Time_of_class_(pm)=%{x}<extra></extra>\", \"legendgroup\": \"16-30\", \"marker\": {\"color\": \"#636efa\"}, \"name\": \"16-30\", \"offsetgroup\": \"16-30\", \"orientation\": \"v\", \"showlegend\": false, \"textposition\": \"auto\", \"type\": \"bar\", \"x\": [\"09:30\", \"09:30\", \"09:30\", \"09:30\", \"10:30\", \"09:30\", \"09:30\", \"09:30\"], \"xaxis\": \"x5\", \"y\": [\"East\", \"East\", \"East\", \"East\", \"East\", \"East\", \"East\", \"East\"], \"yaxis\": \"y5\"}, {\"alignmentgroup\": \"True\", \"hovertemplate\": \"Age=16-30<br>Gender=Male<br>Location=%{y}<br>Time_of_class_(pm)=%{x}<extra></extra>\", \"legendgroup\": \"16-30\", \"marker\": {\"color\": \"#636efa\"}, \"name\": \"16-30\", \"offsetgroup\": \"16-30\", \"orientation\": \"v\", \"showlegend\": false, \"textposition\": \"auto\", \"type\": \"bar\", \"x\": [\"10:30\", \"10:30\", \"10:30\", \"10:30\", \"10:00\", \"10:30\", \"10:30\", \"09:30\", \"10:00\", \"10:30\", \"10:00\", \"10:30\", \"10:30\"], \"xaxis\": \"x6\", \"y\": [\"West\", \"West\", \"West\", \"West\", \"West\", \"West\", \"West\", \"West\", \"West\", \"West\", \"West\", \"West\", \"West\"], \"yaxis\": \"y6\"}, {\"alignmentgroup\": \"True\", \"hovertemplate\": \"Age=16-30<br>Gender=Female<br>Location=%{y}<br>Time_of_class_(pm)=%{x}<extra></extra>\", \"legendgroup\": \"16-30\", \"marker\": {\"color\": \"#636efa\"}, \"name\": \"16-30\", \"offsetgroup\": \"16-30\", \"orientation\": \"v\", \"showlegend\": false, \"textposition\": \"auto\", \"type\": \"bar\", \"x\": [\"10:30\", \"10:00\", \"09:30\", \"10:30\", \"09:30\", \"10:00\", \"10:00\", \"09:30\", \"09:30\", \"10:30\", \"10:30\", \"10:00\", \"10:30\", \"09:30\", \"10:00\", \"10:00\", \"10:30\", \"10:00\", \"10:00\", \"09:30\", \"09:30\", \"10:00\", \"10:30\", \"10:00\", \"09:30\", \"09:30\", \"10:00\", \"10:00\", \"10:00\", \"10:30\", \"09:30\", \"10:30\", \"09:30\", \"10:30\", \"10:30\", \"10:30\", \"09:30\", \"09:30\", \"09:30\", \"10:30\", \"10:30\"], \"xaxis\": \"x\", \"y\": [\"Pakistan\", \"Pakistan\", \"Pakistan\", \"Pakistan\", \"Pakistan\", \"Pakistan\", \"Pakistan\", \"Pakistan\", \"Pakistan\", \"Pakistan\", \"Pakistan\", \"Pakistan\", \"Pakistan\", \"Pakistan\", \"Pakistan\", \"Pakistan\", \"Pakistan\", \"Pakistan\", \"Pakistan\", \"Pakistan\", \"Pakistan\", \"Pakistan\", \"Pakistan\", \"Pakistan\", \"Pakistan\", \"Pakistan\", \"Pakistan\", \"Pakistan\", \"Pakistan\", \"Pakistan\", \"Pakistan\", \"Pakistan\", \"Pakistan\", \"Pakistan\", \"Pakistan\", \"Pakistan\", \"Pakistan\", \"Pakistan\", \"Pakistan\", \"Pakistan\", \"Pakistan\"], \"yaxis\": \"y\"}, {\"alignmentgroup\": \"True\", \"hovertemplate\": \"Age=16-30<br>Gender=Female<br>Location=%{y}<br>Time_of_class_(pm)=%{x}<extra></extra>\", \"legendgroup\": \"16-30\", \"marker\": {\"color\": \"#636efa\"}, \"name\": \"16-30\", \"offsetgroup\": \"16-30\", \"orientation\": \"v\", \"showlegend\": false, \"textposition\": \"auto\", \"type\": \"bar\", \"x\": [\"09:30\", \"09:30\", \"10:00\"], \"xaxis\": \"x2\", \"y\": [\"East\", \"East\", \"East\"], \"yaxis\": \"y2\"}, {\"alignmentgroup\": \"True\", \"hovertemplate\": \"Age=16-30<br>Gender=Female<br>Location=%{y}<br>Time_of_class_(pm)=%{x}<extra></extra>\", \"legendgroup\": \"16-30\", \"marker\": {\"color\": \"#636efa\"}, \"name\": \"16-30\", \"offsetgroup\": \"16-30\", \"orientation\": \"v\", \"showlegend\": false, \"textposition\": \"auto\", \"type\": \"bar\", \"x\": [\"10:30\", \"10:30\", \"10:30\", \"10:30\", \"10:30\", \"10:30\", \"10:00\"], \"xaxis\": \"x3\", \"y\": [\"West\", \"West\", \"West\", \"West\", \"West\", \"West\", \"West\"], \"yaxis\": \"y3\"}, {\"alignmentgroup\": \"True\", \"hovertemplate\": \"Age=30-40<br>Gender=Male<br>Location=%{y}<br>Time_of_class_(pm)=%{x}<extra></extra>\", \"legendgroup\": \"30-40\", \"marker\": {\"color\": \"#EF553B\"}, \"name\": \"30-40\", \"offsetgroup\": \"30-40\", \"orientation\": \"v\", \"showlegend\": true, \"textposition\": \"auto\", \"type\": \"bar\", \"x\": [\"09:30\", \"10:30\", \"10:30\", \"10:30\", \"10:30\", \"10:00\", \"10:00\", \"09:30\", \"10:30\", \"10:00\", \"10:00\", \"10:30\", \"10:00\", \"10:00\", \"09:30\", \"10:00\", \"09:30\", \"10:00\", \"10:00\", \"09:30\", \"10:30\", \"09:30\", \"10:00\", \"10:00\", \"10:30\", \"10:00\", \"10:00\", \"10:00\", \"10:30\", \"09:30\", \"10:00\", \"10:00\", \"10:30\", \"09:30\", \"10:00\", \"09:30\", \"09:30\", \"10:30\", \"09:30\", \"10:30\", \"09:30\", \"10:30\", \"09:30\"], \"xaxis\": \"x4\", \"y\": [\"Pakistan\", \"Pakistan\", \"Pakistan\", \"Pakistan\", \"Pakistan\", \"Pakistan\", \"Pakistan\", \"Pakistan\", \"Pakistan\", \"Pakistan\", \"Pakistan\", \"Pakistan\", \"Pakistan\", \"Pakistan\", \"Pakistan\", \"Pakistan\", \"Pakistan\", \"Pakistan\", \"Pakistan\", \"Pakistan\", \"Pakistan\", \"Pakistan\", \"Pakistan\", \"Pakistan\", \"Pakistan\", \"Pakistan\", \"Pakistan\", \"Pakistan\", \"Pakistan\", \"Pakistan\", \"Pakistan\", \"Pakistan\", \"Pakistan\", \"Pakistan\", \"Pakistan\", \"Pakistan\", \"Pakistan\", \"Pakistan\", \"Pakistan\", \"Pakistan\", \"Pakistan\", \"Pakistan\", \"Pakistan\"], \"yaxis\": \"y4\"}, {\"alignmentgroup\": \"True\", \"hovertemplate\": \"Age=30-40<br>Gender=Male<br>Location=%{y}<br>Time_of_class_(pm)=%{x}<extra></extra>\", \"legendgroup\": \"30-40\", \"marker\": {\"color\": \"#EF553B\"}, \"name\": \"30-40\", \"offsetgroup\": \"30-40\", \"orientation\": \"v\", \"showlegend\": false, \"textposition\": \"auto\", \"type\": \"bar\", \"x\": [\"09:30\", \"10:30\", \"09:30\", \"09:30\"], \"xaxis\": \"x5\", \"y\": [\"East\", \"East\", \"East\", \"East\"], \"yaxis\": \"y5\"}, {\"alignmentgroup\": \"True\", \"hovertemplate\": \"Age=30-40<br>Gender=Male<br>Location=%{y}<br>Time_of_class_(pm)=%{x}<extra></extra>\", \"legendgroup\": \"30-40\", \"marker\": {\"color\": \"#EF553B\"}, \"name\": \"30-40\", \"offsetgroup\": \"30-40\", \"orientation\": \"v\", \"showlegend\": false, \"textposition\": \"auto\", \"type\": \"bar\", \"x\": [\"10:00\", \"10:30\", \"09:30\", \"10:30\", \"10:30\", \"10:30\", \"10:00\", \"10:30\"], \"xaxis\": \"x6\", \"y\": [\"West\", \"West\", \"West\", \"West\", \"West\", \"West\", \"West\", \"West\"], \"yaxis\": \"y6\"}, {\"alignmentgroup\": \"True\", \"hovertemplate\": \"Age=30-40<br>Gender=Female<br>Location=%{y}<br>Time_of_class_(pm)=%{x}<extra></extra>\", \"legendgroup\": \"30-40\", \"marker\": {\"color\": \"#EF553B\"}, \"name\": \"30-40\", \"offsetgroup\": \"30-40\", \"orientation\": \"v\", \"showlegend\": false, \"textposition\": \"auto\", \"type\": \"bar\", \"x\": [\"09:30\", \"10:30\", \"10:00\", \"10:00\", \"10:30\", \"10:00\", \"10:30\", \"10:30\", \"10:30\", \"10:00\"], \"xaxis\": \"x\", \"y\": [\"Pakistan\", \"Pakistan\", \"Pakistan\", \"Pakistan\", \"Pakistan\", \"Pakistan\", \"Pakistan\", \"Pakistan\", \"Pakistan\", \"Pakistan\"], \"yaxis\": \"y\"}, {\"alignmentgroup\": \"True\", \"hovertemplate\": \"Age=30-40<br>Gender=Female<br>Location=%{y}<br>Time_of_class_(pm)=%{x}<extra></extra>\", \"legendgroup\": \"30-40\", \"marker\": {\"color\": \"#EF553B\"}, \"name\": \"30-40\", \"offsetgroup\": \"30-40\", \"orientation\": \"v\", \"showlegend\": false, \"textposition\": \"auto\", \"type\": \"bar\", \"x\": [\"10:30\"], \"xaxis\": \"x3\", \"y\": [\"West\"], \"yaxis\": \"y3\"}, {\"alignmentgroup\": \"True\", \"hovertemplate\": \"Age=>50<br>Gender=Male<br>Location=%{y}<br>Time_of_class_(pm)=%{x}<extra></extra>\", \"legendgroup\": \">50\", \"marker\": {\"color\": \"#00cc96\"}, \"name\": \">50\", \"offsetgroup\": \">50\", \"orientation\": \"v\", \"showlegend\": true, \"textposition\": \"auto\", \"type\": \"bar\", \"x\": [\"10:30\", \"10:00\"], \"xaxis\": \"x4\", \"y\": [\"Pakistan\", \"Pakistan\"], \"yaxis\": \"y4\"}, {\"alignmentgroup\": \"True\", \"hovertemplate\": \"Age=>50<br>Gender=Male<br>Location=%{y}<br>Time_of_class_(pm)=%{x}<extra></extra>\", \"legendgroup\": \">50\", \"marker\": {\"color\": \"#00cc96\"}, \"name\": \">50\", \"offsetgroup\": \">50\", \"orientation\": \"v\", \"showlegend\": false, \"textposition\": \"auto\", \"type\": \"bar\", \"x\": [\"10:30\"], \"xaxis\": \"x6\", \"y\": [\"West\"], \"yaxis\": \"y6\"}, {\"alignmentgroup\": \"True\", \"hovertemplate\": \"Age=40-50<br>Gender=Male<br>Location=%{y}<br>Time_of_class_(pm)=%{x}<extra></extra>\", \"legendgroup\": \"40-50\", \"marker\": {\"color\": \"#ab63fa\"}, \"name\": \"40-50\", \"offsetgroup\": \"40-50\", \"orientation\": \"v\", \"showlegend\": true, \"textposition\": \"auto\", \"type\": \"bar\", \"x\": [\"09:30\", \"10:00\", \"10:00\", \"10:30\", \"10:30\", \"10:00\"], \"xaxis\": \"x4\", \"y\": [\"Pakistan\", \"Pakistan\", \"Pakistan\", \"Pakistan\", \"Pakistan\", \"Pakistan\"], \"yaxis\": \"y4\"}, {\"alignmentgroup\": \"True\", \"hovertemplate\": \"Age=40-50<br>Gender=Male<br>Location=%{y}<br>Time_of_class_(pm)=%{x}<extra></extra>\", \"legendgroup\": \"40-50\", \"marker\": {\"color\": \"#ab63fa\"}, \"name\": \"40-50\", \"offsetgroup\": \"40-50\", \"orientation\": \"v\", \"showlegend\": false, \"textposition\": \"auto\", \"type\": \"bar\", \"x\": [\"10:30\"], \"xaxis\": \"x6\", \"y\": [\"West\"], \"yaxis\": \"y6\"}, {\"alignmentgroup\": \"True\", \"hovertemplate\": \"Age=1-15<br>Gender=Male<br>Location=%{y}<br>Time_of_class_(pm)=%{x}<extra></extra>\", \"legendgroup\": \"1-15\", \"marker\": {\"color\": \"#FFA15A\"}, \"name\": \"1-15\", \"offsetgroup\": \"1-15\", \"orientation\": \"v\", \"showlegend\": true, \"textposition\": \"auto\", \"type\": \"bar\", \"x\": [\"10:30\"], \"xaxis\": \"x6\", \"y\": [\"West\"], \"yaxis\": \"y6\"}, {\"alignmentgroup\": \"True\", \"hovertemplate\": \"Age=1-15<br>Gender=Female<br>Location=%{y}<br>Time_of_class_(pm)=%{x}<extra></extra>\", \"legendgroup\": \"1-15\", \"marker\": {\"color\": \"#FFA15A\"}, \"name\": \"1-15\", \"offsetgroup\": \"1-15\", \"orientation\": \"v\", \"showlegend\": false, \"textposition\": \"auto\", \"type\": \"bar\", \"x\": [\"10:30\"], \"xaxis\": \"x3\", \"y\": [\"West\"], \"yaxis\": \"y3\"}],\n",
       "                        {\"annotations\": [{\"font\": {}, \"showarrow\": false, \"text\": \"Location=Pakistan\", \"x\": 0.15666666666666665, \"xanchor\": \"center\", \"xref\": \"paper\", \"y\": 1.0, \"yanchor\": \"bottom\", \"yref\": \"paper\"}, {\"font\": {}, \"showarrow\": false, \"text\": \"Location=East\", \"x\": 0.49, \"xanchor\": \"center\", \"xref\": \"paper\", \"y\": 1.0, \"yanchor\": \"bottom\", \"yref\": \"paper\"}, {\"font\": {}, \"showarrow\": false, \"text\": \"Location=West\", \"x\": 0.8233333333333333, \"xanchor\": \"center\", \"xref\": \"paper\", \"y\": 1.0, \"yanchor\": \"bottom\", \"yref\": \"paper\"}, {\"font\": {}, \"showarrow\": false, \"text\": \"Gender=Female\", \"textangle\": 90, \"x\": 0.98, \"xanchor\": \"left\", \"xref\": \"paper\", \"y\": 0.2425, \"yanchor\": \"middle\", \"yref\": \"paper\"}, {\"font\": {}, \"showarrow\": false, \"text\": \"Gender=Male\", \"textangle\": 90, \"x\": 0.98, \"xanchor\": \"left\", \"xref\": \"paper\", \"y\": 0.7575000000000001, \"yanchor\": \"middle\", \"yref\": \"paper\"}], \"barmode\": \"relative\", \"legend\": {\"title\": {\"text\": \"Age\"}, \"tracegroupgap\": 0}, \"margin\": {\"t\": 60}, \"template\": {\"data\": {\"bar\": [{\"error_x\": {\"color\": \"#2a3f5f\"}, \"error_y\": {\"color\": \"#2a3f5f\"}, \"marker\": {\"line\": {\"color\": \"#E5ECF6\", \"width\": 0.5}}, \"type\": \"bar\"}], \"barpolar\": [{\"marker\": {\"line\": {\"color\": \"#E5ECF6\", \"width\": 0.5}}, \"type\": \"barpolar\"}], \"carpet\": [{\"aaxis\": {\"endlinecolor\": \"#2a3f5f\", \"gridcolor\": \"white\", \"linecolor\": \"white\", \"minorgridcolor\": \"white\", \"startlinecolor\": \"#2a3f5f\"}, \"baxis\": {\"endlinecolor\": \"#2a3f5f\", \"gridcolor\": \"white\", \"linecolor\": \"white\", \"minorgridcolor\": \"white\", \"startlinecolor\": \"#2a3f5f\"}, \"type\": \"carpet\"}], \"choropleth\": [{\"colorbar\": {\"outlinewidth\": 0, \"ticks\": \"\"}, \"type\": \"choropleth\"}], \"contour\": [{\"colorbar\": {\"outlinewidth\": 0, \"ticks\": \"\"}, \"colorscale\": [[0.0, \"#0d0887\"], [0.1111111111111111, \"#46039f\"], [0.2222222222222222, \"#7201a8\"], [0.3333333333333333, \"#9c179e\"], [0.4444444444444444, \"#bd3786\"], [0.5555555555555556, \"#d8576b\"], [0.6666666666666666, \"#ed7953\"], [0.7777777777777778, \"#fb9f3a\"], [0.8888888888888888, \"#fdca26\"], [1.0, \"#f0f921\"]], \"type\": \"contour\"}], \"contourcarpet\": [{\"colorbar\": {\"outlinewidth\": 0, \"ticks\": \"\"}, \"type\": \"contourcarpet\"}], \"heatmap\": [{\"colorbar\": {\"outlinewidth\": 0, \"ticks\": \"\"}, \"colorscale\": [[0.0, \"#0d0887\"], [0.1111111111111111, \"#46039f\"], [0.2222222222222222, \"#7201a8\"], [0.3333333333333333, \"#9c179e\"], [0.4444444444444444, \"#bd3786\"], [0.5555555555555556, \"#d8576b\"], [0.6666666666666666, \"#ed7953\"], [0.7777777777777778, \"#fb9f3a\"], [0.8888888888888888, \"#fdca26\"], [1.0, \"#f0f921\"]], \"type\": \"heatmap\"}], \"heatmapgl\": [{\"colorbar\": {\"outlinewidth\": 0, \"ticks\": \"\"}, \"colorscale\": [[0.0, \"#0d0887\"], [0.1111111111111111, \"#46039f\"], [0.2222222222222222, \"#7201a8\"], [0.3333333333333333, \"#9c179e\"], [0.4444444444444444, \"#bd3786\"], [0.5555555555555556, \"#d8576b\"], [0.6666666666666666, \"#ed7953\"], [0.7777777777777778, \"#fb9f3a\"], [0.8888888888888888, \"#fdca26\"], [1.0, \"#f0f921\"]], \"type\": \"heatmapgl\"}], \"histogram\": [{\"marker\": {\"colorbar\": {\"outlinewidth\": 0, \"ticks\": \"\"}}, \"type\": \"histogram\"}], \"histogram2d\": [{\"colorbar\": {\"outlinewidth\": 0, \"ticks\": \"\"}, \"colorscale\": [[0.0, \"#0d0887\"], [0.1111111111111111, \"#46039f\"], [0.2222222222222222, \"#7201a8\"], [0.3333333333333333, \"#9c179e\"], [0.4444444444444444, \"#bd3786\"], [0.5555555555555556, \"#d8576b\"], [0.6666666666666666, \"#ed7953\"], [0.7777777777777778, \"#fb9f3a\"], [0.8888888888888888, \"#fdca26\"], [1.0, \"#f0f921\"]], \"type\": \"histogram2d\"}], \"histogram2dcontour\": [{\"colorbar\": {\"outlinewidth\": 0, \"ticks\": \"\"}, \"colorscale\": [[0.0, \"#0d0887\"], [0.1111111111111111, \"#46039f\"], [0.2222222222222222, \"#7201a8\"], [0.3333333333333333, \"#9c179e\"], [0.4444444444444444, \"#bd3786\"], [0.5555555555555556, \"#d8576b\"], [0.6666666666666666, \"#ed7953\"], [0.7777777777777778, \"#fb9f3a\"], [0.8888888888888888, \"#fdca26\"], [1.0, \"#f0f921\"]], \"type\": \"histogram2dcontour\"}], \"mesh3d\": [{\"colorbar\": {\"outlinewidth\": 0, \"ticks\": \"\"}, \"type\": \"mesh3d\"}], \"parcoords\": [{\"line\": {\"colorbar\": {\"outlinewidth\": 0, \"ticks\": \"\"}}, \"type\": \"parcoords\"}], \"pie\": [{\"automargin\": true, \"type\": \"pie\"}], \"scatter\": [{\"marker\": {\"colorbar\": {\"outlinewidth\": 0, \"ticks\": \"\"}}, \"type\": \"scatter\"}], \"scatter3d\": [{\"line\": {\"colorbar\": {\"outlinewidth\": 0, \"ticks\": \"\"}}, \"marker\": {\"colorbar\": {\"outlinewidth\": 0, \"ticks\": \"\"}}, \"type\": \"scatter3d\"}], \"scattercarpet\": [{\"marker\": {\"colorbar\": {\"outlinewidth\": 0, \"ticks\": \"\"}}, \"type\": \"scattercarpet\"}], \"scattergeo\": [{\"marker\": {\"colorbar\": {\"outlinewidth\": 0, \"ticks\": \"\"}}, \"type\": \"scattergeo\"}], \"scattergl\": [{\"marker\": {\"colorbar\": {\"outlinewidth\": 0, \"ticks\": \"\"}}, \"type\": \"scattergl\"}], \"scattermapbox\": [{\"marker\": {\"colorbar\": {\"outlinewidth\": 0, \"ticks\": \"\"}}, \"type\": \"scattermapbox\"}], \"scatterpolar\": [{\"marker\": {\"colorbar\": {\"outlinewidth\": 0, \"ticks\": \"\"}}, \"type\": \"scatterpolar\"}], \"scatterpolargl\": [{\"marker\": {\"colorbar\": {\"outlinewidth\": 0, \"ticks\": \"\"}}, \"type\": \"scatterpolargl\"}], \"scatterternary\": [{\"marker\": {\"colorbar\": {\"outlinewidth\": 0, \"ticks\": \"\"}}, \"type\": \"scatterternary\"}], \"surface\": [{\"colorbar\": {\"outlinewidth\": 0, \"ticks\": \"\"}, \"colorscale\": [[0.0, \"#0d0887\"], [0.1111111111111111, \"#46039f\"], [0.2222222222222222, \"#7201a8\"], [0.3333333333333333, \"#9c179e\"], [0.4444444444444444, \"#bd3786\"], [0.5555555555555556, \"#d8576b\"], [0.6666666666666666, \"#ed7953\"], [0.7777777777777778, \"#fb9f3a\"], [0.8888888888888888, \"#fdca26\"], [1.0, \"#f0f921\"]], \"type\": \"surface\"}], \"table\": [{\"cells\": {\"fill\": {\"color\": \"#EBF0F8\"}, \"line\": {\"color\": \"white\"}}, \"header\": {\"fill\": {\"color\": \"#C8D4E3\"}, \"line\": {\"color\": \"white\"}}, \"type\": \"table\"}]}, \"layout\": {\"annotationdefaults\": {\"arrowcolor\": \"#2a3f5f\", \"arrowhead\": 0, \"arrowwidth\": 1}, \"coloraxis\": {\"colorbar\": {\"outlinewidth\": 0, \"ticks\": \"\"}}, \"colorscale\": {\"diverging\": [[0, \"#8e0152\"], [0.1, \"#c51b7d\"], [0.2, \"#de77ae\"], [0.3, \"#f1b6da\"], [0.4, \"#fde0ef\"], [0.5, \"#f7f7f7\"], [0.6, \"#e6f5d0\"], [0.7, \"#b8e186\"], [0.8, \"#7fbc41\"], [0.9, \"#4d9221\"], [1, \"#276419\"]], \"sequential\": [[0.0, \"#0d0887\"], [0.1111111111111111, \"#46039f\"], [0.2222222222222222, \"#7201a8\"], [0.3333333333333333, \"#9c179e\"], [0.4444444444444444, \"#bd3786\"], [0.5555555555555556, \"#d8576b\"], [0.6666666666666666, \"#ed7953\"], [0.7777777777777778, \"#fb9f3a\"], [0.8888888888888888, \"#fdca26\"], [1.0, \"#f0f921\"]], \"sequentialminus\": [[0.0, \"#0d0887\"], [0.1111111111111111, \"#46039f\"], [0.2222222222222222, \"#7201a8\"], [0.3333333333333333, \"#9c179e\"], [0.4444444444444444, \"#bd3786\"], [0.5555555555555556, \"#d8576b\"], [0.6666666666666666, \"#ed7953\"], [0.7777777777777778, \"#fb9f3a\"], [0.8888888888888888, \"#fdca26\"], [1.0, \"#f0f921\"]]}, \"colorway\": [\"#636efa\", \"#EF553B\", \"#00cc96\", \"#ab63fa\", \"#FFA15A\", \"#19d3f3\", \"#FF6692\", \"#B6E880\", \"#FF97FF\", \"#FECB52\"], \"font\": {\"color\": \"#2a3f5f\"}, \"geo\": {\"bgcolor\": \"white\", \"lakecolor\": \"white\", \"landcolor\": \"#E5ECF6\", \"showlakes\": true, \"showland\": true, \"subunitcolor\": \"white\"}, \"hoverlabel\": {\"align\": \"left\"}, \"hovermode\": \"closest\", \"mapbox\": {\"style\": \"light\"}, \"paper_bgcolor\": \"white\", \"plot_bgcolor\": \"#E5ECF6\", \"polar\": {\"angularaxis\": {\"gridcolor\": \"white\", \"linecolor\": \"white\", \"ticks\": \"\"}, \"bgcolor\": \"#E5ECF6\", \"radialaxis\": {\"gridcolor\": \"white\", \"linecolor\": \"white\", \"ticks\": \"\"}}, \"scene\": {\"xaxis\": {\"backgroundcolor\": \"#E5ECF6\", \"gridcolor\": \"white\", \"gridwidth\": 2, \"linecolor\": \"white\", \"showbackground\": true, \"ticks\": \"\", \"zerolinecolor\": \"white\"}, \"yaxis\": {\"backgroundcolor\": \"#E5ECF6\", \"gridcolor\": \"white\", \"gridwidth\": 2, \"linecolor\": \"white\", \"showbackground\": true, \"ticks\": \"\", \"zerolinecolor\": \"white\"}, \"zaxis\": {\"backgroundcolor\": \"#E5ECF6\", \"gridcolor\": \"white\", \"gridwidth\": 2, \"linecolor\": \"white\", \"showbackground\": true, \"ticks\": \"\", \"zerolinecolor\": \"white\"}}, \"shapedefaults\": {\"line\": {\"color\": \"#2a3f5f\"}}, \"ternary\": {\"aaxis\": {\"gridcolor\": \"white\", \"linecolor\": \"white\", \"ticks\": \"\"}, \"baxis\": {\"gridcolor\": \"white\", \"linecolor\": \"white\", \"ticks\": \"\"}, \"bgcolor\": \"#E5ECF6\", \"caxis\": {\"gridcolor\": \"white\", \"linecolor\": \"white\", \"ticks\": \"\"}}, \"title\": {\"x\": 0.05}, \"xaxis\": {\"automargin\": true, \"gridcolor\": \"white\", \"linecolor\": \"white\", \"ticks\": \"\", \"title\": {\"standoff\": 15}, \"zerolinecolor\": \"white\", \"zerolinewidth\": 2}, \"yaxis\": {\"automargin\": true, \"gridcolor\": \"white\", \"linecolor\": \"white\", \"ticks\": \"\", \"title\": {\"standoff\": 15}, \"zerolinecolor\": \"white\", \"zerolinewidth\": 2}}}, \"xaxis\": {\"anchor\": \"y\", \"domain\": [0.0, 0.3133333333333333], \"title\": {\"text\": \"Time_of_class_(pm)\"}}, \"xaxis2\": {\"anchor\": \"y2\", \"domain\": [0.3333333333333333, 0.6466666666666666], \"matches\": \"x\", \"title\": {\"text\": \"Time_of_class_(pm)\"}}, \"xaxis3\": {\"anchor\": \"y3\", \"domain\": [0.6666666666666666, 0.98], \"matches\": \"x\", \"title\": {\"text\": \"Time_of_class_(pm)\"}}, \"xaxis4\": {\"anchor\": \"y4\", \"domain\": [0.0, 0.3133333333333333], \"matches\": \"x\", \"showticklabels\": false}, \"xaxis5\": {\"anchor\": \"y5\", \"domain\": [0.3333333333333333, 0.6466666666666666], \"matches\": \"x\", \"showticklabels\": false}, \"xaxis6\": {\"anchor\": \"y6\", \"domain\": [0.6666666666666666, 0.98], \"matches\": \"x\", \"showticklabels\": false}, \"yaxis\": {\"anchor\": \"x\", \"categoryarray\": [\"West\", \"East\", \"Pakistan\"], \"categoryorder\": \"array\", \"domain\": [0.0, 0.485], \"title\": {\"text\": \"Location\"}}, \"yaxis2\": {\"anchor\": \"x2\", \"domain\": [0.0, 0.485], \"matches\": \"y\", \"showticklabels\": false}, \"yaxis3\": {\"anchor\": \"x3\", \"domain\": [0.0, 0.485], \"matches\": \"y\", \"showticklabels\": false}, \"yaxis4\": {\"anchor\": \"x4\", \"categoryarray\": [\"West\", \"East\", \"Pakistan\"], \"categoryorder\": \"array\", \"domain\": [0.515, 1.0], \"matches\": \"y\", \"title\": {\"text\": \"Location\"}}, \"yaxis5\": {\"anchor\": \"x5\", \"domain\": [0.515, 1.0], \"matches\": \"y\", \"showticklabels\": false}, \"yaxis6\": {\"anchor\": \"x6\", \"domain\": [0.515, 1.0], \"matches\": \"y\", \"showticklabels\": false}},\n",
       "                        {\"responsive\": true}\n",
       "                    ).then(function(){\n",
       "                            \n",
       "var gd = document.getElementById('9fab1b4f-3bc4-482b-a205-72112a1baf58');\n",
       "var x = new MutationObserver(function (mutations, observer) {{\n",
       "        var display = window.getComputedStyle(gd).display;\n",
       "        if (!display || display === 'none') {{\n",
       "            console.log([gd, 'removed!']);\n",
       "            Plotly.purge(gd);\n",
       "            observer.disconnect();\n",
       "        }}\n",
       "}});\n",
       "\n",
       "// Listen for the removal of the full notebook cells\n",
       "var notebookContainer = gd.closest('#notebook-container');\n",
       "if (notebookContainer) {{\n",
       "    x.observe(notebookContainer, {childList: true});\n",
       "}}\n",
       "\n",
       "// Listen for the clearing of the current output cell\n",
       "var outputEl = gd.closest('.output');\n",
       "if (outputEl) {{\n",
       "    x.observe(outputEl, {childList: true});\n",
       "}}\n",
       "\n",
       "                        })\n",
       "                };\n",
       "                });\n",
       "            </script>\n",
       "        </div>"
      ]
     },
     "metadata": {},
     "output_type": "display_data"
    }
   ],
   "source": [
    "import plotly.express as px\n",
    "import pandas as pd\n",
    "\n",
    "df = pd.read_csv('data_viz.csv')\n",
    "fig = px.bar(df, x=\"Time_of_class_(pm)\", y=\"Location\",color='Age',facet_row=\"Gender\" ,facet_col=\"Location\",)\n",
    "fig.show()"
   ]
  },
  {
   "cell_type": "code",
   "execution_count": 96,
   "id": "66c4371c",
   "metadata": {},
   "outputs": [
    {
     "data": {
      "text/html": [
       "<div>\n",
       "<style scoped>\n",
       "    .dataframe tbody tr th:only-of-type {\n",
       "        vertical-align: middle;\n",
       "    }\n",
       "\n",
       "    .dataframe tbody tr th {\n",
       "        vertical-align: top;\n",
       "    }\n",
       "\n",
       "    .dataframe thead th {\n",
       "        text-align: right;\n",
       "    }\n",
       "</style>\n",
       "<table border=\"1\" class=\"dataframe\">\n",
       "  <thead>\n",
       "    <tr style=\"text-align: right;\">\n",
       "      <th></th>\n",
       "      <th>Timestamp</th>\n",
       "      <th>Gender</th>\n",
       "      <th>Age</th>\n",
       "      <th>Location</th>\n",
       "      <th>Time_of_class_(pm)</th>\n",
       "      <th>Duration_(min)</th>\n",
       "    </tr>\n",
       "  </thead>\n",
       "  <tbody>\n",
       "  </tbody>\n",
       "</table>\n",
       "</div>"
      ],
      "text/plain": [
       "Empty DataFrame\n",
       "Columns: [Timestamp, Gender, Age, Location, Time_of_class_(pm), Duration_(min)]\n",
       "Index: []"
      ]
     },
     "execution_count": 96,
     "metadata": {},
     "output_type": "execute_result"
    }
   ],
   "source": [
    "from re import I\n",
    "import pandas as pd\n",
    "\n",
    " #import data from file\n",
    "chilla = pd.read_csv(\"data_viz.csv\")\n",
    "chilla.head(0)"
   ]
  },
  {
   "cell_type": "code",
   "execution_count": 113,
   "id": "fc5b635f",
   "metadata": {},
   "outputs": [
    {
     "data": {
      "image/png": "[encoded data removed]",
      "text/plain": [
       "<Figure size 648x216 with 3 Axes>"
      ]
     },
     "metadata": {},
     "output_type": "display_data"
    }
   ],
   "source": [
    "# importing packages\n",
    "import seaborn\n",
    "import matplotlib.pyplot as plt\n",
    "import pandas as pd\n",
    "# loading of a dataframe from seaborn\n",
    "df = pd.read_csv('data_viz.csv')\n",
    "  \n",
    "############# Main Section         #############\n",
    "# Form a facetgrid using columns with a hue\n",
    "graph = seaborn.FacetGrid(df, col =\"Location\", hue =\"Location\")\n",
    "# map the above form facetgrid with some attributes\n",
    "graph.map(plt.scatter, \"Gender\", \"Age\",)\n",
    "# show the object\n",
    "plt.show()"
   ]
  },
  {
   "cell_type": "markdown",
   "id": "2664f9e6",
   "metadata": {},
   "source": [
    "### https://www.geeksforgeeks.org/python-seaborn-facetgrid-method/ (described Facetgrid)"
   ]
  },
  {
   "cell_type": "code",
   "execution_count": null,
   "id": "9a3008f2",
   "metadata": {},
   "outputs": [],
   "source": []
  },
  {
   "cell_type": "code",
   "execution_count": 117,
   "id": "a193378b",
   "metadata": {},
   "outputs": [
    {
     "name": "stdout",
     "output_type": "stream",
     "text": [
      "             Timestamp  Gender    Age  Location Time_of_class_(pm)  \\\n",
      "0    1/3/2022 19:09:29    Male  16-30  Pakistan              10:30   \n",
      "1    1/3/2022 19:09:33    Male  16-30  Pakistan              10:00   \n",
      "2    1/3/2022 19:09:33    Male  16-30  Pakistan              10:00   \n",
      "3    1/3/2022 19:09:33    Male  30-40  Pakistan              09:30   \n",
      "4    1/3/2022 19:09:34    Male  16-30      East              09:30   \n",
      "..                 ...     ...    ...       ...                ...   \n",
      "301  1/3/2022 19:11:51    Male  16-30  Pakistan              09:30   \n",
      "302  1/3/2022 19:11:52    Male  16-30  Pakistan              10:30   \n",
      "303  1/3/2022 19:11:53    Male  16-30  Pakistan              10:00   \n",
      "304  1/3/2022 19:11:54  Female  16-30  Pakistan              10:30   \n",
      "305  1/3/2022 19:11:55    Male  16-30  Pakistan              10:30   \n",
      "\n",
      "     Duration_(min)  \n",
      "0                60  \n",
      "1                60  \n",
      "2                30  \n",
      "3                30  \n",
      "4                60  \n",
      "..              ...  \n",
      "301              30  \n",
      "302              45  \n",
      "303              60  \n",
      "304              60  \n",
      "305              45  \n",
      "\n",
      "[306 rows x 6 columns]\n"
     ]
    },
    {
     "data": {
      "image/png": "[encoded data removed]",
      "text/plain": [
       "<Figure size 432x288 with 1 Axes>"
      ]
     },
     "metadata": {},
     "output_type": "display_data"
    }
   ],
   "source": [
    "# import panda librany\n",
    "from re import I\n",
    "import pandas as pd\n",
    "\n",
    " #import data from file\n",
    "chilla = pd.read_csv(\"data_viz.csv\")\n",
    "print(chilla)\n",
    "\n",
    "\n",
    "import seaborn as sns\n",
    "import matplotlib.pylab as plt\n",
    "sns.set_theme(style=\"ticks\",color_codes=True)\n",
    "\n",
    "#p = sns.countplot(x=\"Gender\",data=chilla)\n",
    "#p = sns.countplot(x=\"Gender\", hue=\"Time_of_class_(pm)\",data=chilla)\n",
    "#p = sns.countplot(x=\"Gender\", hue=\"Duration_(min)\" ,data=chilla)\n",
    "#p = sns.countplot(x=\"Location\", data=chilla)\n",
    "\n",
    "plt.show()"
   ]
  }
 ],
 "metadata": {
  "kernelspec": {
   "display_name": "Python 3 (ipykernel)",
   "language": "python",
   "name": "python3"
  },
  "language_info": {
   "codemirror_mode": {
    "name": "ipython",
    "version": 3
   },
   "file_extension": ".py",
   "mimetype": "text/x-python",
   "name": "python",
   "nbconvert_exporter": "python",
   "pygments_lexer": "ipython3",
   "version": "3.9.7"
  }
 },
 "nbformat": 4,
 "nbformat_minor": 5
}
