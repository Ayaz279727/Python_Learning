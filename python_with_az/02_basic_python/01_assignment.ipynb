{
 "cells": [
  {
   "cell_type": "code",
   "execution_count": 33,
   "id": "be3d98fe",
   "metadata": {},
   "outputs": [
    {
     "data": {
      "text/plain": [
       "('sosepan', 'spoons', 'plates', 6, 4, 2, 'vagetable', 'cutter', 3, 2)"
      ]
     },
     "execution_count": 33,
     "metadata": {},
     "output_type": "execute_result"
    }
   ],
   "source": [
    "# -Tuples\n",
    "kitchen = (\"sosepan\",\"spoons\",\"plates\", 6,4,2)\n",
    "kitchen\n",
    "cooking = (\"vagetable\",\"cutter\",3,2)\n",
    "mathe = (11,10,2,4,28,100,3)\n",
    "food_making=kitchen + cooking\n",
    "food_making\n",
    "# min(mathe)\n",
    "# max(mathe)"
   ]
  },
  {
   "cell_type": "code",
   "execution_count": 76,
   "id": "af5d4f83",
   "metadata": {},
   "outputs": [
    {
     "data": {
      "text/plain": [
       "[-4.2, 2, 3, 10, 11, 28, 100]"
      ]
     },
     "execution_count": 76,
     "metadata": {},
     "output_type": "execute_result"
    }
   ],
   "source": [
    "# List \n",
    "kitchen = [\"sosepan\",\"spoons\",\"plates\", 6,4,2]\n",
    "type(kitchen)\n",
    "cooking = [\"vagetable\",\"cutter\",3,2]\n",
    "food_making = kitchen + cooking\n",
    "food_making\n",
    "\n",
    "#new food process added in kitchen \n",
    "kitchen.append(\"foodprocess\")\n",
    "kitchen\n",
    "\n",
    "#clear a list\n",
    "# kitchen.clear()\n",
    "# kitchen\n",
    "\n",
    "#checkout the element avaibale or not\n",
    "#kitchen.count(6)\n",
    "\n",
    "#enter string with a single character\n",
    "kitchen.extend(\"Z\")\n",
    "kitchen\n",
    "\n",
    "# Last in first out\n",
    "kitchen.pop()\n",
    "kitchen\n",
    "\n",
    "# remove any element from list (we remove 6)\n",
    "kitchen.remove(6)\n",
    "kitchen\n",
    "\n",
    "# reverse the list\n",
    "kitchen.reverse()\n",
    "kitchen\n",
    "\n",
    "#sort function only work with int,float\n",
    "mathe = [11,10,2,-4.2,28,100,3]\n",
    "mathe.sort()\n",
    "mathe"
   ]
  },
  {
   "cell_type": "code",
   "execution_count": 135,
   "id": "79f41966",
   "metadata": {},
   "outputs": [
    {
     "data": {
      "text/plain": [
       "{'spoon': 12,\n",
       " 'plates': 12,\n",
       " 'foodprocesser': 1,\n",
       " 'Rice': 2,\n",
       " 'water': 2,\n",
       " 'salt': 1}"
      ]
     },
     "execution_count": 135,
     "metadata": {},
     "output_type": "execute_result"
    }
   ],
   "source": [
    "# Dictionary \n",
    "kitchen = {\"spoon\":12,\"plates\":12,\"foodprocesser\":1}\n",
    "type(kitchen)\n",
    "kitchen.values()\n",
    "kitchen.keys()\n",
    "\n",
    "cooking = {\"Rice\":2,\"water\":2,\"salt\":1}\n",
    "\n",
    "#clear dictornary\n",
    "#kitchen.clear()\n",
    "#kitchen\n",
    "\n",
    "#get the value of a key\n",
    "kitchen.get(\"spoon\")\n",
    "\n",
    "#show the value of item\n",
    "kitchen.items()\n",
    "kitchen\n",
    "\n",
    "# extract value by using a key\n",
    "#kitchen.pop(\"spoon\")\n",
    "#kitchen\n",
    "\n",
    "# extract index 0 value\n",
    "#kitchen.popitem()\n",
    "\n",
    "# we can only add two dictionarys\n",
    "kitchen.update(cooking)\n",
    "kitchen"
   ]
  },
  {
   "cell_type": "code",
   "execution_count": 188,
   "id": "ea1acdf3",
   "metadata": {},
   "outputs": [
    {
     "data": {
      "text/plain": [
       "False"
      ]
     },
     "execution_count": 188,
     "metadata": {},
     "output_type": "execute_result"
    }
   ],
   "source": [
    "# set \n",
    "kitchen = {\"draz\",\"shelf\",\"fridge\",\"switch\",6,12}\n",
    "type(kitchen)\n",
    "cooking = {\"rice\",\"milk\",\"food\"}\n",
    "\n",
    "kitchen.add(10)\n",
    "\n",
    "# clear a set\n",
    "# kitchen.clear()\n",
    "# kitchen\n",
    "\n",
    "# remove an element\n",
    "kitchen.discard(\"shelf\")\n",
    "kitchen\n",
    "\n",
    "# inseart character\n",
    "kitchen.update('shelf 12')\n",
    "kitchen\n",
    "\n",
    "kitchen.issubset(\"draz\")"
   ]
  }
 ],
 "metadata": {
  "kernelspec": {
   "display_name": "Python 3 (ipykernel)",
   "language": "python",
   "name": "python3"
  },
  "language_info": {
   "codemirror_mode": {
    "name": "ipython",
    "version": 3
   },
   "file_extension": ".py",
   "mimetype": "text/x-python",
   "name": "python",
   "nbconvert_exporter": "python",
   "pygments_lexer": "ipython3",
   "version": "3.9.7"
  }
 },
 "nbformat": 4,
 "nbformat_minor": 5
}
