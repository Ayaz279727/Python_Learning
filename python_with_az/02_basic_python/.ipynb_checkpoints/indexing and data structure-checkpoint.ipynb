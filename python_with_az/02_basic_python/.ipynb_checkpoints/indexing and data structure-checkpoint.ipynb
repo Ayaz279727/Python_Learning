{
 "cells": [
  {
   "cell_type": "markdown",
   "id": "eca15aa4",
   "metadata": {},
   "source": [
    "# indexing"
   ]
  },
  {
   "cell_type": "code",
   "execution_count": 7,
   "id": "89678e8e",
   "metadata": {},
   "outputs": [
    {
     "data": {
      "text/plain": [
       "'sumosa pakora'"
      ]
     },
     "execution_count": 7,
     "metadata": {},
     "output_type": "execute_result"
    }
   ],
   "source": [
    "# making a string\n",
    "a = \"sumosa pakora\"\n",
    "a"
   ]
  },
  {
   "cell_type": "code",
   "execution_count": 8,
   "id": "c7ab737f",
   "metadata": {},
   "outputs": [
    {
     "data": {
      "text/plain": [
       "'u'"
      ]
     },
     "execution_count": 8,
     "metadata": {},
     "output_type": "execute_result"
    }
   ],
   "source": [
    "a[1]"
   ]
  },
  {
   "cell_type": "code",
   "execution_count": 9,
   "id": "ca4d21d4",
   "metadata": {},
   "outputs": [
    {
     "data": {
      "text/plain": [
       "13"
      ]
     },
     "execution_count": 9,
     "metadata": {},
     "output_type": "execute_result"
    }
   ],
   "source": [
    "# length of string\n",
    "len(a)"
   ]
  },
  {
   "cell_type": "code",
   "execution_count": 19,
   "id": "c5c7fbae",
   "metadata": {},
   "outputs": [
    {
     "data": {
      "text/plain": [
       "'sum'"
      ]
     },
     "execution_count": 19,
     "metadata": {},
     "output_type": "execute_result"
    }
   ],
   "source": [
    "a[0:3]"
   ]
  },
  {
   "cell_type": "code",
   "execution_count": 11,
   "id": "e67c08e8",
   "metadata": {},
   "outputs": [
    {
     "data": {
      "text/plain": [
       "'a'"
      ]
     },
     "execution_count": 11,
     "metadata": {},
     "output_type": "execute_result"
    }
   ],
   "source": [
    "a[12]"
   ]
  },
  {
   "cell_type": "code",
   "execution_count": 27,
   "id": "fe12829c",
   "metadata": {},
   "outputs": [
    {
     "data": {
      "text/plain": [
       "'pakora'"
      ]
     },
     "execution_count": 27,
     "metadata": {},
     "output_type": "execute_result"
    }
   ],
   "source": [
    "a[-6:13]"
   ]
  },
  {
   "cell_type": "code",
   "execution_count": 25,
   "id": "a6579b38",
   "metadata": {},
   "outputs": [
    {
     "data": {
      "text/plain": [
       "13"
      ]
     },
     "execution_count": 25,
     "metadata": {},
     "output_type": "execute_result"
    }
   ],
   "source": [
    "len(a)"
   ]
  },
  {
   "cell_type": "code",
   "execution_count": 28,
   "id": "2425b92b",
   "metadata": {},
   "outputs": [
    {
     "data": {
      "text/plain": [
       "'biryani'"
      ]
     },
     "execution_count": 28,
     "metadata": {},
     "output_type": "execute_result"
    }
   ],
   "source": [
    "food = \"biryani\"\n",
    "food"
   ]
  },
  {
   "cell_type": "markdown",
   "id": "e679a0f6",
   "metadata": {},
   "source": [
    "# string methonds"
   ]
  },
  {
   "cell_type": "code",
   "execution_count": 29,
   "id": "4cc61bcd",
   "metadata": {},
   "outputs": [
    {
     "data": {
      "text/plain": [
       "'biryani'"
      ]
     },
     "execution_count": 29,
     "metadata": {},
     "output_type": "execute_result"
    }
   ],
   "source": [
    "food"
   ]
  },
  {
   "cell_type": "code",
   "execution_count": 30,
   "id": "b3cb5008",
   "metadata": {},
   "outputs": [
    {
     "data": {
      "text/plain": [
       "'Biryani'"
      ]
     },
     "execution_count": 30,
     "metadata": {},
     "output_type": "execute_result"
    }
   ],
   "source": [
    "# capitablize every element\n",
    "food.capitalize()"
   ]
  },
  {
   "cell_type": "code",
   "execution_count": 31,
   "id": "15c8a049",
   "metadata": {
    "scrolled": true
   },
   "outputs": [
    {
     "data": {
      "text/plain": [
       "'BIRYANI'"
      ]
     },
     "execution_count": 31,
     "metadata": {},
     "output_type": "execute_result"
    }
   ],
   "source": [
    "# change upper case letter\n",
    "food.upper()"
   ]
  },
  {
   "cell_type": "code",
   "execution_count": 32,
   "id": "0df876b8",
   "metadata": {},
   "outputs": [
    {
     "data": {
      "text/plain": [
       "'biryani'"
      ]
     },
     "execution_count": 32,
     "metadata": {},
     "output_type": "execute_result"
    }
   ],
   "source": [
    "# change lower case letter\n",
    "food.lower()"
   ]
  },
  {
   "cell_type": "code",
   "execution_count": 35,
   "id": "305c32a8",
   "metadata": {},
   "outputs": [
    {
     "data": {
      "text/plain": [
       "'shiryani'"
      ]
     },
     "execution_count": 35,
     "metadata": {},
     "output_type": "execute_result"
    }
   ],
   "source": [
    "#replace\n",
    "food.replace('b','sh')"
   ]
  },
  {
   "cell_type": "code",
   "execution_count": 36,
   "id": "51a3ffbe",
   "metadata": {},
   "outputs": [
    {
     "data": {
      "text/plain": [
       "'baba_ammar with ammar baba ji'"
      ]
     },
     "execution_count": 36,
     "metadata": {},
     "output_type": "execute_result"
    }
   ],
   "source": [
    "# converting a specific alphabet in a string\n",
    "name = \"baba_ammar with ammar baba ji\"\n",
    "name"
   ]
  },
  {
   "cell_type": "code",
   "execution_count": 40,
   "id": "e17ccf2f",
   "metadata": {},
   "outputs": [
    {
     "data": {
      "text/plain": [
       "8"
      ]
     },
     "execution_count": 40,
     "metadata": {},
     "output_type": "execute_result"
    }
   ],
   "source": [
    "name.count(\"a\")"
   ]
  },
  {
   "cell_type": "markdown",
   "id": "4eb9640a",
   "metadata": {},
   "source": [
    "### finding index in a large string"
   ]
  },
  {
   "cell_type": "code",
   "execution_count": 41,
   "id": "653173d3",
   "metadata": {},
   "outputs": [
    {
     "data": {
      "text/plain": [
       "'baba_ammar with ammar baba ji'"
      ]
     },
     "execution_count": 41,
     "metadata": {},
     "output_type": "execute_result"
    }
   ],
   "source": [
    "name = \"babaammar with ammar baba ji\"\n",
    "name"
   ]
  },
  {
   "cell_type": "code",
   "execution_count": 45,
   "id": "4ee78875",
   "metadata": {},
   "outputs": [
    {
     "data": {
      "text/plain": [
       "1"
      ]
     },
     "execution_count": 45,
     "metadata": {},
     "output_type": "execute_result"
    }
   ],
   "source": [
    "name.find(\"a\")"
   ]
  },
  {
   "cell_type": "markdown",
   "id": "13d4bc60",
   "metadata": {},
   "source": [
    "### how to split a string"
   ]
  },
  {
   "cell_type": "code",
   "execution_count": 47,
   "id": "604a2b50",
   "metadata": {},
   "outputs": [
    {
     "data": {
      "text/plain": [
       "['I love samosa', ' pakora', ' briyani', ' kababa']"
      ]
     },
     "execution_count": 47,
     "metadata": {},
     "output_type": "execute_result"
    }
   ],
   "source": [
    "food = \"I love samosa, pakora, briyani, kababa\"\n",
    "food.split(\",\")"
   ]
  },
  {
   "cell_type": "markdown",
   "id": "1cf80e16",
   "metadata": {},
   "source": [
    "# Basic data structures in python\n",
    "1- Tuples\n",
    "2- Lists\n",
    "3- Dictonaries\n",
    "4- Set"
   ]
  },
  {
   "cell_type": "markdown",
   "id": "cf765578",
   "metadata": {},
   "source": [
    "## 1- Tuple\n",
    "    - ordered collection of elements\n",
    "    - enclosed in () round braces\n",
    "    - different kind of elements can be store\n",
    "    - once elements you can not change them"
   ]
  },
  {
   "cell_type": "code",
   "execution_count": 58,
   "id": "2aeda54a",
   "metadata": {},
   "outputs": [
    {
     "data": {
      "text/plain": [
       "(1, 'python', True, 2.6)"
      ]
     },
     "execution_count": 58,
     "metadata": {},
     "output_type": "execute_result"
    }
   ],
   "source": [
    "tup1 = (1,'python',True ,2.6)\n",
    "tup1"
   ]
  },
  {
   "cell_type": "code",
   "execution_count": 59,
   "id": "09451679",
   "metadata": {},
   "outputs": [
    {
     "data": {
      "text/plain": [
       "tuple"
      ]
     },
     "execution_count": 59,
     "metadata": {},
     "output_type": "execute_result"
    }
   ],
   "source": [
    "# type of tuple\n",
    "type(tup1)"
   ]
  },
  {
   "cell_type": "markdown",
   "id": "0df60723",
   "metadata": {},
   "source": [
    "### indexing in tuple"
   ]
  },
  {
   "cell_type": "code",
   "execution_count": 61,
   "id": "c28ce169",
   "metadata": {},
   "outputs": [
    {
     "data": {
      "text/plain": [
       "'python'"
      ]
     },
     "execution_count": 61,
     "metadata": {},
     "output_type": "execute_result"
    }
   ],
   "source": [
    "tup1[1]"
   ]
  },
  {
   "cell_type": "code",
   "execution_count": 62,
   "id": "17fa9079",
   "metadata": {},
   "outputs": [
    {
     "data": {
      "text/plain": [
       "(1, 'python', True, 2.6)"
      ]
     },
     "execution_count": 62,
     "metadata": {},
     "output_type": "execute_result"
    }
   ],
   "source": [
    "tup1[0:4]"
   ]
  },
  {
   "cell_type": "code",
   "execution_count": 63,
   "id": "72f21582",
   "metadata": {},
   "outputs": [
    {
     "data": {
      "text/plain": [
       "(1, 'python', True)"
      ]
     },
     "execution_count": 63,
     "metadata": {},
     "output_type": "execute_result"
    }
   ],
   "source": [
    "tup1[0:3]"
   ]
  },
  {
   "cell_type": "code",
   "execution_count": 64,
   "id": "4e0d8833",
   "metadata": {},
   "outputs": [
    {
     "data": {
      "text/plain": [
       "4"
      ]
     },
     "execution_count": 64,
     "metadata": {},
     "output_type": "execute_result"
    }
   ],
   "source": [
    "len(tup1)"
   ]
  },
  {
   "cell_type": "code",
   "execution_count": 65,
   "id": "deb6a300",
   "metadata": {},
   "outputs": [
    {
     "data": {
      "text/plain": [
       "('baba ammar', 3.5, False)"
      ]
     },
     "execution_count": 65,
     "metadata": {},
     "output_type": "execute_result"
    }
   ],
   "source": [
    "tup2 = (\"baba ammar\", 3.5, False)\n",
    "tup2"
   ]
  },
  {
   "cell_type": "code",
   "execution_count": 66,
   "id": "f1d9fe69",
   "metadata": {},
   "outputs": [
    {
     "data": {
      "text/plain": [
       "(1, 'python', True, 2.6, 'baba ammar', 3.5, False)"
      ]
     },
     "execution_count": 66,
     "metadata": {},
     "output_type": "execute_result"
    }
   ],
   "source": [
    "# concatinate more then two tuples\n",
    "tup1+tup2"
   ]
  },
  {
   "cell_type": "code",
   "execution_count": 69,
   "id": "81e0e3a0",
   "metadata": {},
   "outputs": [
    {
     "data": {
      "text/plain": [
       "(1, 'python', True, 2.6, 1, 'python', True, 2.6, 'baba ammar', 3.5, False)"
      ]
     },
     "execution_count": 69,
     "metadata": {},
     "output_type": "execute_result"
    }
   ],
   "source": [
    "tup1*2+ tup2"
   ]
  },
  {
   "cell_type": "code",
   "execution_count": 70,
   "id": "bd47cc7e",
   "metadata": {},
   "outputs": [
    {
     "data": {
      "text/plain": [
       "(20, 50, 60, 80)"
      ]
     },
     "execution_count": 70,
     "metadata": {},
     "output_type": "execute_result"
    }
   ],
   "source": [
    "tup3 = (20,50,60,80)\n",
    "tup3"
   ]
  },
  {
   "cell_type": "markdown",
   "id": "fe9d8ff6",
   "metadata": {},
   "source": [
    "min(tup3)"
   ]
  },
  {
   "cell_type": "code",
   "execution_count": 71,
   "id": "a5633edc",
   "metadata": {},
   "outputs": [
    {
     "data": {
      "text/plain": [
       "20"
      ]
     },
     "execution_count": 71,
     "metadata": {},
     "output_type": "execute_result"
    }
   ],
   "source": [
    "min(tup3)"
   ]
  },
  {
   "cell_type": "code",
   "execution_count": 72,
   "id": "fc35e21c",
   "metadata": {},
   "outputs": [
    {
     "data": {
      "text/plain": [
       "80"
      ]
     },
     "execution_count": 72,
     "metadata": {},
     "output_type": "execute_result"
    }
   ],
   "source": [
    "max(tup3)"
   ]
  },
  {
   "cell_type": "markdown",
   "id": "dc580cf6",
   "metadata": {},
   "source": [
    "---"
   ]
  },
  {
   "cell_type": "markdown",
   "id": "efb1a2b3",
   "metadata": {},
   "source": [
    "### List\n",
    "- ordered collection of elements\n",
    "- enclose in [] square braces\n",
    "- can change the value (mutable)"
   ]
  },
  {
   "cell_type": "code",
   "execution_count": 74,
   "id": "1a0109e8",
   "metadata": {},
   "outputs": [
    {
     "data": {
      "text/plain": [
       "[2, 'babaammar', False]"
      ]
     },
     "execution_count": 74,
     "metadata": {},
     "output_type": "execute_result"
    }
   ],
   "source": [
    "list1 = [2, \"babaammar\", False]\n",
    "list1"
   ]
  },
  {
   "cell_type": "code",
   "execution_count": 75,
   "id": "60618152",
   "metadata": {},
   "outputs": [
    {
     "data": {
      "text/plain": [
       "list"
      ]
     },
     "execution_count": 75,
     "metadata": {},
     "output_type": "execute_result"
    }
   ],
   "source": [
    "type(list1)"
   ]
  },
  {
   "cell_type": "code",
   "execution_count": 76,
   "id": "00555ffa",
   "metadata": {},
   "outputs": [],
   "source": [
    "list2 = [4, 478, False, \"ayaz\",\"chala\",58.6]"
   ]
  },
  {
   "cell_type": "code",
   "execution_count": 77,
   "id": "33645908",
   "metadata": {},
   "outputs": [
    {
     "data": {
      "text/plain": [
       "[2, 'babaammar', False, 4, 478, False, 'ayaz', 'chala', 58.6]"
      ]
     },
     "execution_count": 77,
     "metadata": {},
     "output_type": "execute_result"
    }
   ],
   "source": [
    "list1 + list2"
   ]
  },
  {
   "cell_type": "code",
   "execution_count": 78,
   "id": "e238ffa9",
   "metadata": {},
   "outputs": [
    {
     "data": {
      "text/plain": [
       "[2, 'babaammar', False, 2, 'babaammar', False]"
      ]
     },
     "execution_count": 78,
     "metadata": {},
     "output_type": "execute_result"
    }
   ],
   "source": [
    "list1 * 2"
   ]
  },
  {
   "cell_type": "code",
   "execution_count": 81,
   "id": "bdd53b02",
   "metadata": {},
   "outputs": [
    {
     "data": {
      "text/plain": [
       "[2, 'babaammar', False]"
      ]
     },
     "execution_count": 81,
     "metadata": {},
     "output_type": "execute_result"
    }
   ],
   "source": [
    "list1"
   ]
  },
  {
   "cell_type": "code",
   "execution_count": 82,
   "id": "15d1930a",
   "metadata": {},
   "outputs": [
    {
     "data": {
      "text/plain": [
       "[False, 'babaammar', 2]"
      ]
     },
     "execution_count": 82,
     "metadata": {},
     "output_type": "execute_result"
    }
   ],
   "source": [
    "list1.reverse()\n",
    "list1"
   ]
  },
  {
   "cell_type": "code",
   "execution_count": 83,
   "id": "54619b04",
   "metadata": {},
   "outputs": [],
   "source": [
    "list1.append(\"youtube, challnel\")"
   ]
  },
  {
   "cell_type": "code",
   "execution_count": 84,
   "id": "3e803448",
   "metadata": {},
   "outputs": [
    {
     "data": {
      "text/plain": [
       "[False, 'babaammar', 2, 'youtube, challnel']"
      ]
     },
     "execution_count": 84,
     "metadata": {},
     "output_type": "execute_result"
    }
   ],
   "source": [
    "list1"
   ]
  },
  {
   "cell_type": "code",
   "execution_count": 96,
   "id": "edfea13b",
   "metadata": {},
   "outputs": [
    {
     "data": {
      "text/plain": [
       "1"
      ]
     },
     "execution_count": 96,
     "metadata": {},
     "output_type": "execute_result"
    }
   ],
   "source": [
    "list1.count(False)"
   ]
  },
  {
   "cell_type": "code",
   "execution_count": 99,
   "id": "df38f12d",
   "metadata": {},
   "outputs": [
    {
     "data": {
      "text/plain": [
       "[1, 2, 4, 7, 12, 16, 26, 40, 50, 60]"
      ]
     },
     "execution_count": 99,
     "metadata": {},
     "output_type": "execute_result"
    }
   ],
   "source": [
    "list3 = [12,16,26,40,50,60,2,7,1,4]\n",
    "list3.sort()\n",
    "list3"
   ]
  },
  {
   "cell_type": "code",
   "execution_count": 100,
   "id": "f1694d4d",
   "metadata": {},
   "outputs": [
    {
     "data": {
      "text/plain": [
       "[1,\n",
       " 2,\n",
       " 4,\n",
       " 7,\n",
       " 12,\n",
       " 16,\n",
       " 26,\n",
       " 40,\n",
       " 50,\n",
       " 60,\n",
       " 1,\n",
       " 2,\n",
       " 4,\n",
       " 7,\n",
       " 12,\n",
       " 16,\n",
       " 26,\n",
       " 40,\n",
       " 50,\n",
       " 60,\n",
       " 1,\n",
       " 2,\n",
       " 4,\n",
       " 7,\n",
       " 12,\n",
       " 16,\n",
       " 26,\n",
       " 40,\n",
       " 50,\n",
       " 60]"
      ]
     },
     "execution_count": 100,
     "metadata": {},
     "output_type": "execute_result"
    }
   ],
   "source": [
    "list3 * 3"
   ]
  },
  {
   "cell_type": "code",
   "execution_count": 101,
   "id": "b781cfd6",
   "metadata": {},
   "outputs": [
    {
     "data": {
      "text/plain": [
       "[False,\n",
       " 'babaammar',\n",
       " 2,\n",
       " 'youtube, challnel',\n",
       " 1,\n",
       " 2,\n",
       " 4,\n",
       " 7,\n",
       " 12,\n",
       " 16,\n",
       " 26,\n",
       " 40,\n",
       " 50,\n",
       " 60]"
      ]
     },
     "execution_count": 101,
     "metadata": {},
     "output_type": "execute_result"
    }
   ],
   "source": [
    "list1+list3"
   ]
  },
  {
   "cell_type": "markdown",
   "id": "3231cf18",
   "metadata": {},
   "source": [
    "### Dictionaries\n",
    "- unorder collection of elements\n",
    "- key and value\n",
    "- {} curly braces\n",
    "- mutable /changeable"
   ]
  },
  {
   "cell_type": "code",
   "execution_count": 105,
   "id": "8d9714b3",
   "metadata": {},
   "outputs": [
    {
     "data": {
      "text/plain": [
       "{'somosa': 100, 'pakora': 100, 'Rita': 20, 'Salad': 10, 'Chicken rolls': 30}"
      ]
     },
     "execution_count": 105,
     "metadata": {},
     "output_type": "execute_result"
    }
   ],
   "source": [
    "# Food and their prices\n",
    "kokha_item = {\"somosa\":100,\"pakora\":100,\"Rita\":20,\"Salad\":10,\"Chicken rolls\":30}\n",
    "kokha_item"
   ]
  },
  {
   "cell_type": "code",
   "execution_count": 106,
   "id": "92b0a7ed",
   "metadata": {},
   "outputs": [
    {
     "data": {
      "text/plain": [
       "dict"
      ]
     },
     "execution_count": 106,
     "metadata": {},
     "output_type": "execute_result"
    }
   ],
   "source": [
    "type(kokha_item)"
   ]
  },
  {
   "cell_type": "code",
   "execution_count": 108,
   "id": "fb9a42d0",
   "metadata": {},
   "outputs": [
    {
     "data": {
      "text/plain": [
       "dict_keys(['somosa', 'pakora', 'Rita', 'Salad', 'Chicken rolls'])"
      ]
     },
     "execution_count": 108,
     "metadata": {},
     "output_type": "execute_result"
    }
   ],
   "source": [
    "# extract data\n",
    "kokha_item.keys()"
   ]
  },
  {
   "cell_type": "code",
   "execution_count": 109,
   "id": "6dbcddf9",
   "metadata": {},
   "outputs": [
    {
     "data": {
      "text/plain": [
       "dict_values([100, 100, 20, 10, 30])"
      ]
     },
     "execution_count": 109,
     "metadata": {},
     "output_type": "execute_result"
    }
   ],
   "source": [
    "kokha_item.values()"
   ]
  },
  {
   "cell_type": "code",
   "execution_count": 110,
   "id": "bcaa288a",
   "metadata": {
    "scrolled": true
   },
   "outputs": [
    {
     "data": {
      "text/plain": [
       "{'somosa': 100,\n",
       " 'pakora': 100,\n",
       " 'Rita': 20,\n",
       " 'Salad': 10,\n",
       " 'Chicken rolls': 30,\n",
       " 'Ticky': 10}"
      ]
     },
     "execution_count": 110,
     "metadata": {},
     "output_type": "execute_result"
    }
   ],
   "source": [
    "# adding new element\n",
    "kokha_item[\"Ticky\"]=10\n",
    "kokha_item"
   ]
  },
  {
   "cell_type": "code",
   "execution_count": 113,
   "id": "ebf2ab71",
   "metadata": {},
   "outputs": [
    {
     "data": {
      "text/plain": [
       "{'somosa': 100,\n",
       " 'pakora': 100,\n",
       " 'Rita': 'free',\n",
       " 'Salad': 10,\n",
       " 'Chicken rolls': 30,\n",
       " 'Ticky': 10}"
      ]
     },
     "execution_count": 113,
     "metadata": {},
     "output_type": "execute_result"
    }
   ],
   "source": [
    "kokha_item[\"Rita\"]= \"free\"\n",
    "kokha_item"
   ]
  },
  {
   "cell_type": "code",
   "execution_count": 118,
   "id": "233781a8",
   "metadata": {},
   "outputs": [
    {
     "data": {
      "text/plain": [
       "dict_values([50, 200, 200])"
      ]
     },
     "execution_count": 118,
     "metadata": {},
     "output_type": "execute_result"
    }
   ],
   "source": [
    "food = {\"Dates\":50, \"Choclates\":200, \"Saviyan\":200}\n",
    "food\n",
    "food.values()"
   ]
  },
  {
   "cell_type": "code",
   "execution_count": 122,
   "id": "9b7c1376",
   "metadata": {},
   "outputs": [
    {
     "data": {
      "text/plain": [
       "{'somosa': 100,\n",
       " 'pakora': 100,\n",
       " 'Rita': 'free',\n",
       " 'Salad': 10,\n",
       " 'Chicken rolls': 30,\n",
       " 'Ticky': 10,\n",
       " 'Dates': 50,\n",
       " 'Choclates': 200,\n",
       " 'Saviyan': 200}"
      ]
     },
     "execution_count": 122,
     "metadata": {},
     "output_type": "execute_result"
    }
   ],
   "source": [
    "kokha_item.update(food)\n",
    "kokha_item"
   ]
  },
  {
   "cell_type": "markdown",
   "id": "4afcc387",
   "metadata": {},
   "source": [
    "### 4- Set\n",
    "- unordered and unindex\n",
    "- {} use with curly braces\n",
    "- No duplicate allowed"
   ]
  },
  {
   "cell_type": "code",
   "execution_count": 133,
   "id": "7fb2b4ec",
   "metadata": {},
   "outputs": [
    {
     "data": {
      "text/plain": [
       "{2.3, 20, 4, True, 'ammar', 'float', 'joy'}"
      ]
     },
     "execution_count": 133,
     "metadata": {},
     "output_type": "execute_result"
    }
   ],
   "source": [
    "set1 = {20, 2.3, 4, \"ammar\", \"float\",\"joy\",True}\n",
    "set1"
   ]
  },
  {
   "cell_type": "code",
   "execution_count": 134,
   "id": "9a627955",
   "metadata": {},
   "outputs": [
    {
     "data": {
      "text/plain": [
       "{2.3, 20, 4, 'Ayaz', True, 'ammar', 'float', 'joy'}"
      ]
     },
     "execution_count": 134,
     "metadata": {},
     "output_type": "execute_result"
    }
   ],
   "source": [
    "set1.add(\"Ayaz\")\n",
    "set1"
   ]
  },
  {
   "cell_type": "code",
   "execution_count": 136,
   "id": "dc6f03c5",
   "metadata": {},
   "outputs": [
    {
     "data": {
      "text/plain": [
       "{2.3, 20, 4, 'Ayaz', True, 'ammar', 'float', 'joy'}"
      ]
     },
     "execution_count": 136,
     "metadata": {},
     "output_type": "execute_result"
    }
   ],
   "source": [
    "set1.add(\"ammar\")\n",
    "set1"
   ]
  },
  {
   "cell_type": "code",
   "execution_count": 137,
   "id": "ae9cd5b9",
   "metadata": {
    "scrolled": true
   },
   "outputs": [
    {
     "data": {
      "text/plain": [
       "{2.3, 20, 4, 'Ayaz', 'ammar', 'float', 'joy'}"
      ]
     },
     "execution_count": 137,
     "metadata": {},
     "output_type": "execute_result"
    }
   ],
   "source": [
    "set1.remove(True)\n",
    "set1"
   ]
  },
  {
   "cell_type": "code",
   "execution_count": null,
   "id": "c85e2690",
   "metadata": {},
   "outputs": [],
   "source": []
  }
 ],
 "metadata": {
  "kernelspec": {
   "display_name": "Python 3 (ipykernel)",
   "language": "python",
   "name": "python3"
  },
  "language_info": {
   "codemirror_mode": {
    "name": "ipython",
    "version": 3
   },
   "file_extension": ".py",
   "mimetype": "text/x-python",
   "name": "python",
   "nbconvert_exporter": "python",
   "pygments_lexer": "ipython3",
   "version": "3.9.7"
  }
 },
 "nbformat": 4,
 "nbformat_minor": 5
}
